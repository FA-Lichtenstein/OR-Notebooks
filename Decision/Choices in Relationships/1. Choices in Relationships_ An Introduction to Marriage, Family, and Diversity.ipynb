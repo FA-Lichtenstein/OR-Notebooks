{
 "cells": [
  {
   "cell_type": "markdown",
   "id": "ff326ff3-3653-46de-92a1-ba55c3c201d8",
   "metadata": {},
   "source": [
    "# Choices in Relationships: An Introduction to Marriage, Family, and Diversity"
   ]
  },
  {
   "cell_type": "markdown",
   "id": "58fae83a-5b7d-42db-96d9-8e49b895b1eb",
   "metadata": {},
   "source": [
    "In the introduction, Knox, Schatch, and Chang list the following learning objectives:"
   ]
  },
  {
   "cell_type": "markdown",
   "id": "1ab4fa74-d2d6-4f61-a991-fd9cd1f65a65",
   "metadata": {},
   "source": [
    "1. Review facts about choices in relationships\n",
    "2. Describe theoretical frameworks of marriage and family\n",
    "3. Identify elements, benefits, and types of marriage\n",
    "4. Define family and types of family\n",
    "5. Distinguish between marriage and family\n",
    "6. Summarize the research process and its limitations\n",
    "7. Identify future changes in marriage and family"
   ]
  },
  {
   "cell_type": "markdown",
   "id": "7688bd4d-e047-4489-8650-dddd5a199055",
   "metadata": {},
   "source": [
    "They also motivate the study of marriage and family by giving the following data about the percentages of a sample of 13,119 undergraduates reporting different aspirations as their top values:\n",
    "| Aspiration | Percent |\n",
    "| --- | --- |\n",
    "| \"Have a happy marriage\" | 44% |\n",
    "| \"Have a career I love\" | 32% |\n",
    "| \"Have financial security\" | 21% |"
   ]
  },
  {
   "cell_type": "markdown",
   "id": "e18c27c5-622c-44e6-8ace-7d66550cb979",
   "metadata": {},
   "source": [
    "They remind readers that marriage and family are an important source of sustained, meaningful emotional connections and the bedrock of society."
   ]
  },
  {
   "cell_type": "code",
   "execution_count": null,
   "id": "e122f8f2-f309-47a4-accc-298dbaa9342a",
   "metadata": {},
   "outputs": [],
   "source": []
  }
 ],
 "metadata": {
  "kernelspec": {
   "display_name": "Python 3 (ipykernel)",
   "language": "python",
   "name": "python3"
  },
  "language_info": {
   "codemirror_mode": {
    "name": "ipython",
    "version": 3
   },
   "file_extension": ".py",
   "mimetype": "text/x-python",
   "name": "python",
   "nbconvert_exporter": "python",
   "pygments_lexer": "ipython3",
   "version": "3.12.4"
  }
 },
 "nbformat": 4,
 "nbformat_minor": 5
}
