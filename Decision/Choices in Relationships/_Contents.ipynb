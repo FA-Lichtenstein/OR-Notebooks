{
 "cells": [
  {
   "cell_type": "markdown",
   "id": "7042cfeb-ac19-4abc-9df4-1647e685a50f",
   "metadata": {},
   "source": [
    "# Brief Contents"
   ]
  },
  {
   "cell_type": "markdown",
   "id": "875e37a9-b0bb-4bdc-8b04-7b4f78a94b05",
   "metadata": {},
   "source": [
    "1. List of Self-Assessments\n",
    "2. Preface\n",
    "3. Acknowledgements\n",
    "4. About the Authors\n",
    "5. Chapter 1: Choices in Relationships: An Introduction to Marriage, Family, and Diversity\n",
    "6. Chapter 2: Love Relationships\n",
    "7. Chapter 3: Gender and Diversity\n",
    "8. Chapter 4: Singlehood, Cohabitation, and Living Apart Together\n",
    "9. Chapter 5: Selecting a Partner\n",
    "10. Chapter 6: Diversity in Marriage Relationships\n",
    "11. Chapter 7: LGBTQIA Relationships\n",
    "12. Chapter 8: Communication and Technology in Relationships\n",
    "13. Chapter 9: Sexuality in Relationships\n",
    "14. Chapter 10: Violence and Abuse in Relationships\n",
    "15. Chapter 11: Planning for Parenthood\n",
    "16. Chapter 12: Diversity in Parenting\n",
    "17. Chapter 13: Money, Work, and Relationships\n",
    "18. Chapter 14: Stress and Crisis in Relationships\n",
    "19. Chapter 15: Divorce, Remarriage, and Stepfamilies\n",
    "20. Chapter 16: The Later Years\n",
    "21. Special Topic 1: Careers in Marriage and the Family\n",
    "22. Special Topic 2: Contraception and STI Protection\n",
    "23. Self-Assessments\n",
    "24. Glossary\n",
    "25. References\n",
    "26. Index"
   ]
  }
 ],
 "metadata": {
  "kernelspec": {
   "display_name": "Python 3 (ipykernel)",
   "language": "python",
   "name": "python3"
  },
  "language_info": {
   "codemirror_mode": {
    "name": "ipython",
    "version": 3
   },
   "file_extension": ".py",
   "mimetype": "text/x-python",
   "name": "python",
   "nbconvert_exporter": "python",
   "pygments_lexer": "ipython3",
   "version": "3.12.4"
  }
 },
 "nbformat": 4,
 "nbformat_minor": 5
}
