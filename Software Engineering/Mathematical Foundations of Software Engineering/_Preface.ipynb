{
 "cells": [
  {
   "cell_type": "markdown",
   "id": "85611a8f-6364-47da-b79b-d6095800298b",
   "metadata": {},
   "source": [
    "# Preface"
   ]
  },
  {
   "cell_type": "markdown",
   "id": "092047c6-c066-40ec-885a-7036e18495ea",
   "metadata": {},
   "source": [
    "In the preface, O'Regan states the purpose of the book, names the intended audience, and gives an outline of the book"
   ]
  },
  {
   "cell_type": "markdown",
   "id": "20fe1bd6-1dd3-4663-8bac-74be3cec3c59",
   "metadata": {},
   "source": [
    "## Purpose and Audience"
   ]
  },
  {
   "cell_type": "markdown",
   "id": "7aca8c68-328c-47c3-893a-b008097c1e96",
   "metadata": {},
   "source": [
    "O'Regan states that the intended audience for the book are undergraduate software engineering students who need to be familiar with foundation mathematics for software engineering and motivated general readers who wish to gain that familiarity. The purpose is to give such readers a flavour of this mathematics "
   ]
  },
  {
   "cell_type": "markdown",
   "id": "5e4b346b-2f1c-4efc-9606-c00fb586842f",
   "metadata": {},
   "source": [
    "## Outline "
   ]
  },
  {
   "cell_type": "markdown",
   "id": "c695e5cd-592b-4f22-b486-2c24e1eee630",
   "metadata": {},
   "source": [
    "1. Chapter 1: Introduces software engineering\n",
    "2. Chapter 2: Outlines what mathematics is needed in software engineering\n",
    "3. Chapter 3: Discusses mathematical prerequisites\n",
    "4. Chapter 4: Briefly introduces the study of algorithms\n",
    "5. Chapter 5: Discusses topics in algebra\n",
    "6. Chapter 6: Discusses mathematical induction and recursion\n",
    "7. Chapter 7: Discusses graph theory\n",
    "8. Chapter 8: Discusses sequences and series and permutations and combinations\n",
    "9. Chapter 9: Gives a short history of logic\n",
    "10. Chapter 10: Introduces propositional and predicate logic\n",
    "11. Chapter 11: Discusses fuzzy logic, temporal logic, intuitionistic logic, undefined values, and applications of logic in AI\n",
    "12. Chapter 12: Discusses language theory and semantics\n",
    "13. Chapter 13: Discusses automata theory\n",
    "14. Chapter 14: Discusses computability and decidability\n",
    "15. Chapter 15: Discusses software reliability and dependability\n",
    "16. Chapter 16: Discusses formal methods\n",
    "17. Chapter 17: Presents the Z specification language\n",
    "18. Chapter 18: Discusses model checking\n",
    "19. Chapter 19: Discusses theorem proving\n",
    "20. Chapter 20: Discusses cryptography\n",
    "21. Chapter 21: Discusses coding theory\n",
    "22. Chapter 22: Discusses statistics\n",
    "23. Chapter 23: Discusses probability\n",
    "24. Chapter 24: Discusses data science\n",
    "25. Chapter 25: Briefly introduces calculus\n",
    "26. Chapter 26: Presents applications of calculus\n",
    "27. Chapter 27: Discusses matrices\n",
    "28. Chapter 28: Discusses complex numbers and quaternions\n",
    "29. Chapter 29: Discusses vectors\n",
    "30. Chapter 30: Discusses financial mathematics\n",
    "31. Chapter 31: Discusses operations research\n",
    "32. Chapter 32: Discusses Excel, Minitab, Python, R, and Mathematica\n"
   ]
  }
 ],
 "metadata": {
  "kernelspec": {
   "display_name": "Python 3 (ipykernel)",
   "language": "python",
   "name": "python3"
  },
  "language_info": {
   "codemirror_mode": {
    "name": "ipython",
    "version": 3
   },
   "file_extension": ".py",
   "mimetype": "text/x-python",
   "name": "python",
   "nbconvert_exporter": "python",
   "pygments_lexer": "ipython3",
   "version": "3.12.4"
  }
 },
 "nbformat": 4,
 "nbformat_minor": 5
}
