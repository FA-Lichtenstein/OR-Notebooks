{
 "cells": [
  {
   "cell_type": "markdown",
   "id": "083a7404-4d02-4ed1-910e-a8a0fa440578",
   "metadata": {},
   "source": [
    "# Foundations of Software Engineering "
   ]
  },
  {
   "cell_type": "markdown",
   "id": "6992a58a-e681-42ef-81cb-1c5949b39d15",
   "metadata": {},
   "source": [
    "## Introduction"
   ]
  },
  {
   "cell_type": "markdown",
   "id": "244851ee-ba76-4496-b441-fb371e7259b2",
   "metadata": {},
   "source": [
    "O'Regan gives a brief history of problems with timely delivery and reliability of software. He compares a \"software crisis\" of major delays, budget overruns, and defective software in the 1950s and 1960s to a similar crisis in bridge construction in the 1800s. In both cases, a crisis of late, over-budget, and canceled projects, and defective products that endangered the public created an awareness of a need for engineering competence, discipline, and professionalism."
   ]
  },
  {
   "cell_type": "markdown",
   "id": "a5bf5d04-9565-41a5-ba51-53ce2bf1c012",
   "metadata": {},
   "source": [
    "## What is Software Engineering"
   ]
  },
  {
   "cell_type": "markdown",
   "id": "fb12a9cf-b47e-4a54-9e21-6570d57992a6",
   "metadata": {},
   "source": [
    "O'Regan quotes the IEEE 610.12 definition of software engineering:"
   ]
  },
  {
   "cell_type": "markdown",
   "id": "2a8c1c88-3e72-4bb0-bd86-558608056c10",
   "metadata": {},
   "source": [
    "> Software engineering is the application of a systematic, disciplined, quantifiable approach to the development, operation, and maintenance of software; that is, the application of engineering to software, and the study of such approaches."
   ]
  },
  {
   "cell_type": "markdown",
   "id": "e1f00f2b-821f-4b5b-8866-09f06db3a3d8",
   "metadata": {},
   "source": [
    "In O'Regan's view, what sets software engineering apart from programming is that software engineers state precise requirements for their software; design, develop, and test their software to meet those requirements using engineering methods according to engineering principles; employ sound project management and quality management practices; and ensure proper maintenance and support for the software."
   ]
  },
  {
   "cell_type": "markdown",
   "id": "b52a4972-bac2-47ee-8b6d-c0177af4f766",
   "metadata": {},
   "source": [
    "O'Regan argues that to merit being called a software engineer, developers require core competencies and education in engineering mathematics, specification, design, programming, inspections, and testing. O'Regan also talks about the responsibility and accountability of engineers to meet required standards and to adhere to a professional code of ethics."
   ]
  },
  {
   "cell_type": "markdown",
   "id": "404ef80f-e88f-48c2-a8b4-73689feeaa4c",
   "metadata": {},
   "source": [
    "## Challenges in Software Engineering"
   ]
  },
  {
   "cell_type": "markdown",
   "id": "846e7488-f77f-4473-abeb-edf2f0e5e778",
   "metadata": {},
   "source": [
    "The main challenge in software engineering according to O'Regan is the accurate estimation of project cost, effort, and schedule. Two other main challenges are managing risks and quality."
   ]
  },
  {
   "cell_type": "markdown",
   "id": "02775811-d938-49d7-a3c6-5919abdf0f4b",
   "metadata": {},
   "source": [
    "O'Regan gives three examples of defective code, a quality problem, posing severe risks in terms of damages caused. Examples include the millennium bug, the floating-point bug in Intel microprocessors, and the European Space Agency Ariane-5 disaster."
   ]
  },
  {
   "cell_type": "markdown",
   "id": "2172eb8a-e48c-4aaf-afc1-528f4f99e031",
   "metadata": {},
   "source": [
    "## Software Processes and Lifecycles"
   ]
  },
  {
   "cell_type": "markdown",
   "id": "74dd5a00-bb9d-4901-8017-f555db7e50fa",
   "metadata": {},
   "source": [
    "O'Regan lists the following software process assets organizations typically have:\n",
    "- Software development policies\n",
    "- Process/activity flow maps\n",
    "- Detailed procedures and guidelines\n",
    "- Performance assessment checklists\n",
    "- Templates for specific activities\n",
    "- Training materials"
   ]
  },
  {
   "cell_type": "markdown",
   "id": "1284e8ed-5688-47bf-8645-5651d075fa43",
   "metadata": {},
   "source": [
    "O'Regan lists the following processes for developing high-quality software:\n",
    "- Project Management Process\n",
    "- Requirements Process\n",
    "- Design Process\n",
    "- Coding Process\n",
    "- Peer Review Process\n",
    "- Testing Process\n",
    "- Supplier Selection and Management Processes\n",
    "- Configuration Management Process\n",
    "- Audit Process\n",
    "- Measurement Process\n",
    "- Improvement Process\n",
    "- Customer Support and Maintenance Processes"
   ]
  },
  {
   "cell_type": "markdown",
   "id": "2bddc2e9-0fd3-4eba-be7c-4c6ac9533205",
   "metadata": {},
   "source": [
    "O'Regan also discusses several lifecycle models."
   ]
  },
  {
   "cell_type": "markdown",
   "id": "ddfbdca9-6918-4c52-ae5c-06a6597d78f5",
   "metadata": {},
   "source": [
    "### Waterfall Lifecycle "
   ]
  },
  {
   "cell_type": "markdown",
   "id": "cf40e511-2f88-4749-86c1-f809a6fc4187",
   "metadata": {},
   "source": [
    "O'Regan explains that one variation of the waterfall V model goes in the following sequence:\n",
    "1. Define requirements\n",
    "2. Define system specification\n",
    "3. Design software\n",
    "4. Code implementation\n",
    "5. Unit testing\n",
    "6. Integration testing\n",
    "7. System testing\n",
    "8. Acceptance testing"
   ]
  },
  {
   "cell_type": "markdown",
   "id": "d945717d-7191-4b91-8b92-8c357838abb6",
   "metadata": {},
   "source": [
    "### Spiral Lifecycles "
   ]
  },
  {
   "cell_type": "markdown",
   "id": "b5c31336-abfb-4781-9506-aa5332d79ad7",
   "metadata": {},
   "source": [
    "O'Regan explains that the spiral model is an iterative model of development that's useful when all requirements can't be defined at the start of the project and will evolve as the project develops successive versions of the product. Development proceeds in several rounds that involve analysis of objectives and risks, requirements updates, design, code, testing, and user reviews.  "
   ]
  },
  {
   "cell_type": "markdown",
   "id": "7a480ccc-62dd-4ea7-a813-a5a7a8b96e51",
   "metadata": {},
   "source": [
    "O'Regan lists several similar methodologies, including:\n",
    "- Rapid Application Development (RAD)\n",
    "- Joint Application Development (JAD)\n",
    "- Dynamic Systems Development Method (DSDM)\n",
    "- Agile Development"
   ]
  },
  {
   "cell_type": "markdown",
   "id": "ef6a37b3-de74-458d-889f-b0eeb3b139b3",
   "metadata": {},
   "source": [
    "### Rational Unified Process "
   ]
  },
  {
   "cell_type": "markdown",
   "id": "f7d73805-e422-4f86-bf08-4e95b2da0c62",
   "metadata": {},
   "source": [
    "O'Regan explains that the Rational Unified Process (RUP) is use case driven, architecture-centric, iterative, and incremental, and includes cycles, phases, workflows, risk mitigation, quality control, project management, and configuration control. It also makes use of Unified Modelling Language as a tool for specification and design."
   ]
  },
  {
   "cell_type": "markdown",
   "id": "d70fc24b-f236-4518-b72d-05c564f4d2a5",
   "metadata": {},
   "source": [
    "O'Regan explains that one of the ways that RUP mitigates risk is by decomposing the work of a large project into smaller slices or mini-projects."
   ]
  },
  {
   "cell_type": "markdown",
   "id": "5ee7b5d6-c55f-4792-ba46-346ed128bb2e",
   "metadata": {},
   "source": [
    "### Agile Development"
   ]
  },
  {
   "cell_type": "markdown",
   "id": "2a3b8c40-26db-4198-adc9-3661e1d958c3",
   "metadata": {},
   "source": [
    "O'Regan explains that Agile is a more responsive methodology in which typically it's possible to finish 50% of requirements 100% halfway through a project, whereas with waterfall, typically 100% of the requirements would be 50% done halfway through a project."
   ]
  },
  {
   "cell_type": "markdown",
   "id": "05bf338c-f671-490b-83db-5a7b9ea4e338",
   "metadata": {},
   "source": [
    "Similar to the spiral lifecycle, Agile breaks a project down into small mini-projects, and ongoing changes to requirements are considered normal. The methodology includes controls to manage changes to requirements and good communication and early regular feedback is an essential part of the process."
   ]
  },
  {
   "cell_type": "markdown",
   "id": "69275a23-2ae4-4d64-a9da-8cfd56e8b949",
   "metadata": {},
   "source": [
    "Requirements are defined as user stories. Stories are considered either done or not done. Partial completion isn't counted. Stories are considered complete when they've passed acceptance tests. Stories are prioritized based on factors like business value, risk, and dependence on other stories."
   ]
  },
  {
   "cell_type": "markdown",
   "id": "98fc3605-8096-485d-ab22-8ce3f5559e90",
   "metadata": {},
   "source": [
    "O'Regan explains that scrum is an agile method for managing iterative development. After the outline of the project has been planned, there follows a series of sprint cycles. Each sprint usually lasts 2 to 4 weeks in which an increment of the system is developed. At the start of an iteration, sprint planning is performed."
   ]
  },
  {
   "cell_type": "markdown",
   "id": "35958b29-1418-40c7-b324-c7bc0b1f51f0",
   "metadata": {},
   "source": [
    "During a sprint, a short morning stand-up meeting is held daily, attended by the scrum master, project manager, and project team to discuss the previous day's progress, problems, and the work planned for the day ahead. Separate meetings are held for problems that require detailed discussion."
   ]
  },
  {
   "cell_type": "markdown",
   "id": "60381298-ab49-4cf4-8a7f-471a88fe1aff",
   "metadata": {},
   "source": [
    "The scrum master is a facilitator who arranges scrum meetings, ensures that the process is followed, and removes roadblocks."
   ]
  },
  {
   "cell_type": "markdown",
   "id": "c61feb18-118b-46d1-aebb-508b82d1fc85",
   "metadata": {},
   "source": [
    "At the end of a sprint, the increment is demonstrated to the product owner to receive feedback and new requirements. The team also conducts a retrospective meeting for continuous improvement to reflect on what went well and what went poorly and to plan for improvement. Then planning for the next sprint starts."
   ]
  },
  {
   "cell_type": "markdown",
   "id": "21e46d48-da0d-4ad0-86c0-8c07558694c6",
   "metadata": {},
   "source": [
    "O'Regan explains that agile employs pair programming."
   ]
  },
  {
   "cell_type": "markdown",
   "id": "6735c822-cf00-4afd-8d1b-00125a39a81f",
   "metadata": {},
   "source": [
    "O'Regan also explains that Agile employs test-driven development with tests written before code and that Agile generally employs automated testing and that tests are rerun before each release."
   ]
  },
  {
   "cell_type": "markdown",
   "id": "b1c3a8a2-6ad5-48ec-b5bf-8bcdb2489833",
   "metadata": {},
   "source": [
    "O'Regan explains that Agile employs refactoring as a design and coding practice. Refactors are changes to the design of the system without changing what it does to improve maintainability and readability and reduce complexity."
   ]
  },
  {
   "cell_type": "markdown",
   "id": "562b185a-d5f5-49d6-a2de-7e6e1a10c8ea",
   "metadata": {},
   "source": [
    "Finally, O'Regan mentioned that continuous integration is often used in Agile and that it allows the system to be built with every change. Early and regular integration allows for early and regular feedback, including from automated testing. "
   ]
  },
  {
   "cell_type": "markdown",
   "id": "a1d31e97-63c0-4156-a0af-6cf539721620",
   "metadata": {},
   "source": [
    "### Continuous Software Development "
   ]
  },
  {
   "cell_type": "markdown",
   "id": "33edcf83-2884-4d30-a9c4-3377b4a9cd76",
   "metadata": {},
   "source": [
    "O'Regan explains that continuous software development is a development of Agile that involves continuous integration, continuous delivery, continuous testing, and continuous deployment of software."
   ]
  },
  {
   "cell_type": "markdown",
   "id": "1e0e4f6b-de21-4a63-95f8-e85eb4dcf759",
   "metadata": {},
   "source": [
    "Continuous integration is a practice where each developer submits their work for integration as soon as it's done, sometimes resulting in several builds during a single day. The build processes typically have an associated set of automated unit and integration tests."
   ]
  },
  {
   "cell_type": "markdown",
   "id": "07cbdb1b-9bc8-4d03-b17d-4d390ff111a3",
   "metadata": {},
   "source": [
    "Continuous delivery expands with additional automated functional tests, regression tests, and possibly acceptance tests."
   ]
  },
  {
   "cell_type": "markdown",
   "id": "4034491e-d990-4836-b10e-798680cbc5a9",
   "metadata": {},
   "source": [
    "Continuous testing allows continuous manual testing and user acceptance testing where the software is expected to change during testing."
   ]
  },
  {
   "cell_type": "markdown",
   "id": "c95eed69-7369-4b3e-881e-ee123707a8ae",
   "metadata": {},
   "source": [
    "Continuous deployment involves automating the deployment to production process with automated delivery tests prior to deployment."
   ]
  },
  {
   "cell_type": "markdown",
   "id": "92661125-4e6d-4056-8b8d-437a173e773a",
   "metadata": {},
   "source": [
    "## Activities in Software Development "
   ]
  },
  {
   "cell_type": "markdown",
   "id": "e99e04bf-682a-474f-979f-8b49b64b85a6",
   "metadata": {},
   "source": [
    "### Requirements Definition"
   ]
  },
  {
   "cell_type": "markdown",
   "id": "0e2a0b56-4b83-45a9-87ec-4b55dcee91a9",
   "metadata": {},
   "source": [
    "O'Regan explains that user and business requirements specify goals that software is required to accomplish without specifying how and that the process of determining, analyzing, validating, and managing requirements is called requirements engineering. "
   ]
  },
  {
   "cell_type": "markdown",
   "id": "a6a12e75-b002-4d8e-968c-147d8bc6d908",
   "metadata": {},
   "source": [
    "O'Regan explains that there are distinctions between user requirements and functional and non-functional system requirements. Functional requirements are functions that the user must be able to form, and non-functional requirements are other system characteristics like security, reliability, availability, performance, portability, maintainability, etc."
   ]
  },
  {
   "cell_type": "markdown",
   "id": "c6aaa21e-627c-40a7-acb3-2ebf31c1cb0c",
   "metadata": {},
   "source": [
    "O'Regan explains that in Agile the product backlog and accompanying user stories take the place of a requirements document."
   ]
  },
  {
   "cell_type": "markdown",
   "id": "f80ec00f-278c-40e4-bc6a-7d64a336654f",
   "metadata": {},
   "source": [
    "O'Regan explains that requirements verification involves verifying that the implementation meets requirements, while requirements validation ensures that requirements are correctly defined."
   ]
  },
  {
   "cell_type": "markdown",
   "id": "96c55f21-97e3-4baa-8401-d30a223a3b2a",
   "metadata": {},
   "source": [
    "O'Regan mentions that while requirements are usually specified in natural English, sometimes languages like UML, VDM or Z are used."
   ]
  },
  {
   "cell_type": "markdown",
   "id": "28a7e291-1d2f-44ea-a44e-521c2b2838a3",
   "metadata": {},
   "source": [
    "### Design"
   ]
  },
  {
   "cell_type": "markdown",
   "id": "0bb63192-2958-4961-932a-3d59cfb3145b",
   "metadata": {},
   "source": [
    "O'Regan explains that design involves describing the architecture, user interface, and data will be structured and the functions and algorithms needed to meet requirements."
   ]
  },
  {
   "cell_type": "markdown",
   "id": "cefe9eee-6e8d-4a29-99a4-8af2d2bb45ad",
   "metadata": {},
   "source": [
    "O'Regan explains that refactoring involves changes the design, without changing the functioning of software."
   ]
  },
  {
   "cell_type": "markdown",
   "id": "f9219ed8-08f1-47d6-b9a9-4816a02261cc",
   "metadata": {},
   "source": [
    "O'Regan mentions that there are several tools for specifying designs including UML diagrams, program description languages and pseudocode."
   ]
  },
  {
   "cell_type": "markdown",
   "id": "a2b0a5b3-89ee-4bd2-9d38-cdf9a6a0eab4",
   "metadata": {},
   "source": [
    "O'Regan contrasts  function-oriented design which involves abstracting functions that operate on a shared global system state with object-oriented design, based on the notion of objects that are instances of classes that can inherit attributes and operations from superclasses, that hide information from each other, while sending messages and operating in a decentralized fashion."
   ]
  },
  {
   "cell_type": "markdown",
   "id": "b0252698-10c7-4b24-a33c-667b28555ba2",
   "metadata": {},
   "source": [
    "O'Regans mentions a similar distinction between design verification and validation to requirements verification and validation."
   ]
  },
  {
   "cell_type": "markdown",
   "id": "0ea1f7b6-f933-469e-9977-00b83546b13e",
   "metadata": {},
   "source": [
    "### Implementation"
   ]
  },
  {
   "cell_type": "markdown",
   "id": "8b6a6834-4bae-412f-ae84-d25a4bc1e417",
   "metadata": {},
   "source": [
    "O'Regan explains that implementation involves writing code in a given language to match the design and meet requirements. According to O'Regan code reviews or walkthroughs are important to ensure implementation conforms to coding standards, that maintainability issues are addressed, and the code is a valid implementation of the design."
   ]
  },
  {
   "cell_type": "markdown",
   "id": "e7fa3344-78e4-489f-874e-f4f60d26a213",
   "metadata": {},
   "source": [
    "O'Regan explains that in Agile, implementation starts with writing a suite of tests and iterative development and refactoring are test driven."
   ]
  },
  {
   "cell_type": "markdown",
   "id": "d7888d07-37df-4bdb-b4dc-e448829cbeb7",
   "metadata": {},
   "source": [
    "O'Regan explains that software reuse is an important way to speed up the implementation process and that the reuse of open-source software has become popular in recent years."
   ]
  },
  {
   "cell_type": "markdown",
   "id": "c68440e8-014f-40d4-9d4f-00843f6fd380",
   "metadata": {},
   "source": [
    "### Software Testing"
   ]
  },
  {
   "cell_type": "markdown",
   "id": "df2a8638-2c13-40cd-88e3-aebc50be4a96",
   "metadata": {},
   "source": [
    "O'Regan explains that testing is used to verify that software is defect-free and meets requirements. Code coverage and branch coverage metrics can indicate how comprehensive testing is."
   ]
  },
  {
   "cell_type": "markdown",
   "id": "31668ba1-7f4b-4fda-ad67-22c808324682",
   "metadata": {},
   "source": [
    "O'Regan explains that *Test Driven Development* is used in Agile as explained above under implementation."
   ]
  },
  {
   "cell_type": "markdown",
   "id": "5bedddd2-d270-4f12-ade6-f41d937ada1a",
   "metadata": {},
   "source": [
    "O'Regan explains that *unit testing* is internal tests of modules or units prior to integration with other modules, that *integration testing* tests to verify that modules and their interfaces work correctly together, that *system testing* tests to verify that the software is a valid implementation of system requirements, that *performance testings* are tests to verify that the implemented system satisfies non-functional performance requirements, and that *user acceptance testing* are tests done with customers in conditions that closely resemble real-life use case conditions for the system, to verify that the product satisfies customer needs and expectations."
   ]
  },
  {
   "cell_type": "markdown",
   "id": "1676e2f2-9af9-4721-9130-811251d73b5a",
   "metadata": {},
   "source": [
    "### Support and Maintenance"
   ]
  },
  {
   "cell_type": "markdown",
   "id": "799b52be-f0f4-4e3e-b369-1ceebd9de482",
   "metadata": {},
   "source": [
    "O'Regan explains that support and maintenance involve ongoing enhancements and corrections of defects of software over its lifetime. When customers report problems with the software, an investigation must be done to determine if it's a software defect, a required enhancement, or a customer error or misunderstanding. A solution must be found and tested to verify that it's correct."
   ]
  },
  {
   "cell_type": "markdown",
   "id": "47e5dbfc-7d98-4139-b829-c6d961fc6945",
   "metadata": {},
   "source": [
    "O'Regan explains that it's usually infeasible to deliver code that is absolutely free of any defects and that quality should include and should be included in support and maintenance practices."
   ]
  },
  {
   "cell_type": "markdown",
   "id": "bcb7d88e-4798-435b-a8de-ed3b42e9c83a",
   "metadata": {},
   "source": [
    "## Software Inspections"
   ]
  },
  {
   "cell_type": "markdown",
   "id": "da075f65-3c25-421d-8109-601ea84726fe",
   "metadata": {},
   "source": [
    "O'Regan explains that there are several methodologies for software inspection, including the Fagan Methodology, Gilb's approach, and Prince 2's approach, and that inspection involves independent experts inspecting requirements documents, design documents, source code, and test plans to ensure quality."
   ]
  },
  {
   "cell_type": "markdown",
   "id": "dc60ad87-9ac9-4273-b8d0-a6132228bb76",
   "metadata": {},
   "source": [
    "## Software Project Management "
   ]
  },
  {
   "cell_type": "markdown",
   "id": "bf41ef74-a8d0-4a72-8d05-bb75ad3914d9",
   "metadata": {},
   "source": [
    "O'Regan highlights that software projects have a history of being delivered late, over budget, and with quality defects and require special attention to good project management."
   ]
  },
  {
   "cell_type": "markdown",
   "id": "e439145f-97d4-4630-9ba7-5b002d26d4ba",
   "metadata": {},
   "source": [
    "O'Regan gives a list of activities to include in good software project management:\n",
    "- Estimating cost and effort\n",
    "- Identifying and managing risks\n",
    "- Preparing a project plan\n",
    "- Preparing an initial project schedule with key milestones\n",
    "- Obtaining approval for the project plan and schedule\n",
    "- Staffing the project\n",
    "- Monitoring progress, budget, schedule, effort, risks, issues, change requests, and quality\n",
    "- Taking corrective action\n",
    "- Replanning and rescheduling\n",
    "- Communicating progress to affected stakeholders\n",
    "- Preparing status reports and presentations"
   ]
  },
  {
   "cell_type": "markdown",
   "id": "2b2a72d8-cee0-4b4d-a587-a8d795440bf7",
   "metadata": {},
   "source": [
    "## CMMI Maturity Model "
   ]
  },
  {
   "cell_type": "markdown",
   "id": "3537d17c-4306-49e5-9ef8-79fe6fa3f6ae",
   "metadata": {},
   "source": [
    "O'Regan explains that the Capability Maturity Model Integration (CMMI) model is an internationally recognized model for software process improvement and assessment developed by the Software Engineering Institute."
   ]
  },
  {
   "cell_type": "markdown",
   "id": "4a243695-31df-4af7-9343-74d2303cea4b",
   "metadata": {},
   "source": [
    "O'Regan explains that the model consists of five maturity levels, each with several process areas, each area with several goals, and each goal pursued by a set of practices. Level two focuses on management practices, level three on engineering and organization practices, level four on quantitative measures, and level five on continuous improvement."
   ]
  },
  {
   "cell_type": "markdown",
   "id": "df700692-7286-4d12-93ad-c6ead961f10d",
   "metadata": {},
   "source": [
    "## Formal Methods "
   ]
  },
  {
   "cell_type": "markdown",
   "id": "74a98d24-dc41-4d4d-8369-150b61371367",
   "metadata": {},
   "source": [
    "O'Regan explains that formal methods describe formal specification languages and a method to design and implement software via stepwise refinement and proof. He also observes that these mathematically rigorous methods are cumbersome to use, that they have mostly been used in safety-critical areas, and that they are unlikely to find widespread use. O'Regan lists some areas in which formal methods have been successfully applied including circuit design, artificial intelligence, specification of standards, and specification and verification of programs. "
   ]
  },
  {
   "cell_type": "markdown",
   "id": "a4faee8b-b21c-48df-bb0b-d847455addf7",
   "metadata": {},
   "source": [
    "## Summary"
   ]
  },
  {
   "cell_type": "markdown",
   "id": "f114500d-d9c6-424c-93b2-3ffd31f73084",
   "metadata": {},
   "source": [
    "O'Regan very briefly summarizes the chapter highlighting the birth date of software engineering, the Standish group's research, the analogy between software development and engineering, a brief overview of software development best practices, and the CMMI software process maturity model."
   ]
  }
 ],
 "metadata": {
  "kernelspec": {
   "display_name": "Python 3 (ipykernel)",
   "language": "python",
   "name": "python3"
  },
  "language_info": {
   "codemirror_mode": {
    "name": "ipython",
    "version": 3
   },
   "file_extension": ".py",
   "mimetype": "text/x-python",
   "name": "python",
   "nbconvert_exporter": "python",
   "pygments_lexer": "ipython3",
   "version": "3.12.4"
  }
 },
 "nbformat": 4,
 "nbformat_minor": 5
}
