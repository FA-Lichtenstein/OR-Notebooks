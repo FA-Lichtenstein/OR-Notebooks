{
 "cells": [
  {
   "cell_type": "markdown",
   "id": "083a7404-4d02-4ed1-910e-a8a0fa440578",
   "metadata": {},
   "source": [
    "# Foundations of Software Engineering "
   ]
  },
  {
   "cell_type": "markdown",
   "id": "6992a58a-e681-42ef-81cb-1c5949b39d15",
   "metadata": {},
   "source": [
    "## Introduction"
   ]
  },
  {
   "cell_type": "markdown",
   "id": "244851ee-ba76-4496-b441-fb371e7259b2",
   "metadata": {},
   "source": [
    "O'Regan gives a brief history of problems with timely delivery and reliability of software. He compares a \"software crisis\" of major delays, budget overruns, and defective software in the 1950s and 1960 to a similar crisis in bridge construction in the 1800s. In both cases, a crisis of late, over-budget, and cancelled projects, and defective products that endangered the public created an awareness of a need for engineering competence, discipline, and professionalism."
   ]
  },
  {
   "cell_type": "markdown",
   "id": "a5bf5d04-9565-41a5-ba51-53ce2bf1c012",
   "metadata": {},
   "source": [
    "## What is Software Engineering"
   ]
  },
  {
   "cell_type": "markdown",
   "id": "fb12a9cf-b47e-4a54-9e21-6570d57992a6",
   "metadata": {},
   "source": [
    "O'Regan quotes the IEEE 610.12 definition of software engineering:"
   ]
  },
  {
   "cell_type": "markdown",
   "id": "2a8c1c88-3e72-4bb0-bd86-558608056c10",
   "metadata": {},
   "source": [
    "> Software engineering is the application of a systematic, disciplined, quantifiable approach to the development, operation, and maintenance of software; that is, the application of engineering to software, and the study of such approaches."
   ]
  },
  {
   "cell_type": "markdown",
   "id": "e1f00f2b-821f-4b5b-8866-09f06db3a3d8",
   "metadata": {},
   "source": [
    "In O'Regan's view, what sets software engineering apart from programming is that software engineers state precise requirements for their software; design, develop, and test their software to meet those requirements using engineering methods according to engineering principles; employ sound project management and quality management practices; and ensure proper maintenance and support for software."
   ]
  },
  {
   "cell_type": "markdown",
   "id": "b52a4972-bac2-47ee-8b6d-c0177af4f766",
   "metadata": {},
   "source": [
    "O'Regan argues that to merit being called a software engineer, developers require core competencies and education in engineering mathematics, specification, design, programming, inspections, and testing. O'Regan also talks about the responsibility and accountability of engineers to meet required standards and to adhere to a professional code of ethics."
   ]
  },
  {
   "cell_type": "markdown",
   "id": "404ef80f-e88f-48c2-a8b4-73689feeaa4c",
   "metadata": {},
   "source": [
    "## Challenges in Software Engineering"
   ]
  },
  {
   "cell_type": "markdown",
   "id": "846e7488-f77f-4473-abeb-edf2f0e5e778",
   "metadata": {},
   "source": [
    "The main challenge in software engineering according to O'Regan is the accurate estimation of project cost, effort, and schedule. Two other main challenges are managing risks and quality."
   ]
  },
  {
   "cell_type": "markdown",
   "id": "02775811-d938-49d7-a3c6-5919abdf0f4b",
   "metadata": {},
   "source": [
    "O'Regan gives a few examples of defective code, a quality problem, posing severe risks in terms of damages caused. Examples include the millenium bug, the floating-point bug in Intel microprocessors, and the European Space Agency Ariane-5 disaster."
   ]
  },
  {
   "cell_type": "markdown",
   "id": "2172eb8a-e48c-4aaf-afc1-528f4f99e031",
   "metadata": {},
   "source": [
    "## Software Processes and Lifecycles "
   ]
  },
  {
   "cell_type": "markdown",
   "id": "74dd5a00-bb9d-4901-8017-f555db7e50fa",
   "metadata": {},
   "source": [
    "O'Regan lists the following software process assets organizations typically have:\n",
    "- Software development policies\n",
    "- Process / activity flow maps\n",
    "- Detailed procedures and guidelines\n",
    "- Performance assessment checklists\n",
    "- Templates for specific activities\n",
    "- Training materials"
   ]
  },
  {
   "cell_type": "markdown",
   "id": "1284e8ed-5688-47bf-8645-5651d075fa43",
   "metadata": {},
   "source": [
    "O'Regan lists the following processes for developing high-quality software:\n",
    "- Project Management Process\n",
    "- Requirements Process\n",
    "- Design Process\n",
    "- Coding Process\n",
    "- Peer Review Process\n",
    "- Testing Process\n",
    "- Supplier Selection and Management Processes\n",
    "- Configuration Management Process\n",
    "- Audit Process\n",
    "- Measurement Process\n",
    "- Improvement Process\n",
    "- Customer Support and Maintenance Processes"
   ]
  },
  {
   "cell_type": "markdown",
   "id": "2bddc2e9-0fd3-4eba-be7c-4c6ac9533205",
   "metadata": {},
   "source": [
    "O'Regan also discusses several lifecycle models."
   ]
  },
  {
   "cell_type": "markdown",
   "id": "ddfbdca9-6918-4c52-ae5c-06a6597d78f5",
   "metadata": {},
   "source": [
    "### Waterfall Lifecycle "
   ]
  },
  {
   "cell_type": "markdown",
   "id": "cf40e511-2f88-4749-86c1-f809a6fc4187",
   "metadata": {},
   "source": [
    "O'Regan explains that one variation of the waterfall V model goes in the following sequence:\n",
    "1. Define requirements\n",
    "2. Define system specification\n",
    "3. Design software\n",
    "4. Code implementation\n",
    "5. Unit testing\n",
    "6. Integration testing\n",
    "7. System testing\n",
    "8. Acceptance testing"
   ]
  },
  {
   "cell_type": "markdown",
   "id": "d945717d-7191-4b91-8b92-8c357838abb6",
   "metadata": {},
   "source": [
    "### Spiral Lifecycles "
   ]
  },
  {
   "cell_type": "markdown",
   "id": "b5c31336-abfb-4781-9506-aa5332d79ad7",
   "metadata": {},
   "source": [
    "O'Regan explains that the spiral model is an iterative model of development that's useful when all requirements can't be defined at the start of the project and will evolve as the project develops successive versions of the product. Development proceeds in several rounds that involve analysis of objectives and risks, requirements updates, design, code, testing and user reviews.  "
   ]
  },
  {
   "cell_type": "markdown",
   "id": "7a480ccc-62dd-4ea7-a813-a5a7a8b96e51",
   "metadata": {},
   "source": [
    "O'Regan lists several similar methodologies, including:\n",
    "- Rapid Application Development (RAD)\n",
    "- Joint Application Development (JAD)\n",
    "- Dynamic Systems Development Method (DSDM)\n",
    "- Agile Development"
   ]
  },
  {
   "cell_type": "markdown",
   "id": "ef6a37b3-de74-458d-889f-b0eeb3b139b3",
   "metadata": {},
   "source": [
    "### Rational Unified Process "
   ]
  },
  {
   "cell_type": "markdown",
   "id": "f7d73805-e422-4f86-bf08-4e95b2da0c62",
   "metadata": {},
   "source": [
    "O'Regan explains that the Rational Unified Process (RUP) is use case drive, architecture centric, iterative, and incremenal, and includes cycles, phases, workflows, risk mitigation, quality control, project management and configuration control. It also makes use of Unified Modelling Language as a tool for specification and design."
   ]
  },
  {
   "cell_type": "markdown",
   "id": "d70fc24b-f236-4518-b72d-05c564f4d2a5",
   "metadata": {},
   "source": [
    "O'Regan explains that one of the ways that RUP mitigates risk is by decomposing the work of a large project into smaller slices or mini-projects."
   ]
  },
  {
   "cell_type": "markdown",
   "id": "5ee7b5d6-c55f-4792-ba46-346ed128bb2e",
   "metadata": {},
   "source": [
    "### Agile Development"
   ]
  },
  {
   "cell_type": "markdown",
   "id": "2a3b8c40-26db-4198-adc9-3661e1d958c3",
   "metadata": {},
   "source": [
    "O'Regan explains that Agile is a more responsive methodology in which typically it's possible to finsish 50% of requirements 100% half way through a project, whereas with waterfall, typically 100% of the requirements would be 50% done half way through a project."
   ]
  },
  {
   "cell_type": "markdown",
   "id": "05bf338c-f671-490b-83db-5a7b9ea4e338",
   "metadata": {},
   "source": [
    "Similar to spiral lifecycle, Agile breaks a project down into small mini-projects and ongoing changes to requirements are considered normal. The methodology includes controls to manage changes to requirements and good communication and early regular feedback is an essential part of the process."
   ]
  },
  {
   "cell_type": "markdown",
   "id": "69275a23-2ae4-4d64-a9da-8cfd56e8b949",
   "metadata": {},
   "source": [
    "Requirements are defined as user stories. Stories are considered either done or not done. Partial completion isn't counted. Stories are considered complete when they've passed acceptance tests. And stories are prioritized based on factors like business value, risk, and dependence on other stories."
   ]
  },
  {
   "cell_type": "markdown",
   "id": "98fc3605-8096-485d-ab22-8ce3f5559e90",
   "metadata": {},
   "source": [
    "O'Regan explains that scrum is an agile method for managing iterative development. After the outline of the project has been planned, there follow a series of sprint cycles. Each sprint usually lasts 2 to 4 weeks in which an increment of the system is developed. At the start of an iteration, sprint planning is performed."
   ]
  },
  {
   "cell_type": "markdown",
   "id": "35958b29-1418-40c7-b324-c7bc0b1f51f0",
   "metadata": {},
   "source": [
    "During a sprint, a short morning stand-up meeting is held daily, attended by the scrum master, project manager, and project team to discuss previous day's progress, problems, and the work planned for the day ahead. Separate meetings are held for problems that require detailed discussion."
   ]
  },
  {
   "cell_type": "markdown",
   "id": "60381298-ab49-4cf4-8a7f-471a88fe1aff",
   "metadata": {},
   "source": [
    "The scrum master is a facilitator who arranges scrum meetings, ensures that the process is followed, and removes roadblocks."
   ]
  },
  {
   "cell_type": "markdown",
   "id": "c61feb18-118b-46d1-aebb-508b82d1fc85",
   "metadata": {},
   "source": [
    "At the end of a sprint, the increment is demonstrated to the product owner to receive feedback and new requirements. The team also conducts an retrospective meeting for continuous improvement to reflect on what went well and what went poorly and to plan for improvement. Then planning for the next sprint starts."
   ]
  },
  {
   "cell_type": "markdown",
   "id": "21e46d48-da0d-4ad0-86c0-8c07558694c6",
   "metadata": {},
   "source": [
    "O'Regan explains that agile employs pair programming."
   ]
  },
  {
   "cell_type": "markdown",
   "id": "6735c822-cf00-4afd-8d1b-00125a39a81f",
   "metadata": {},
   "source": [
    "O'Regan also explains that Agile employs test-driven development with test written before code and that agile generally employs automated testing and that tests are rerun before each release."
   ]
  },
  {
   "cell_type": "markdown",
   "id": "b1c3a8a2-6ad5-48ec-b5bf-8bcdb2489833",
   "metadata": {},
   "source": [
    "O'Regan explains that Agile employs refactoring as a design and coding practice. Refactors are changes to the design of the system without changing what it does to improve maintainability and readability and to reduce complexity."
   ]
  },
  {
   "cell_type": "markdown",
   "id": "562b185a-d5f5-49d6-a2de-7e6e1a10c8ea",
   "metadata": {},
   "source": [
    "Finally, O'Regan mentioned that continuous integration is often used in Agile and that it allows the system to be built with every change. Early and regular integration allows for early and regular feedback, including from automated testing. "
   ]
  },
  {
   "cell_type": "markdown",
   "id": "a1d31e97-63c0-4156-a0af-6cf539721620",
   "metadata": {},
   "source": [
    "### Continuous Software Development "
   ]
  },
  {
   "cell_type": "markdown",
   "id": "33edcf83-2884-4d30-a9c4-3377b4a9cd76",
   "metadata": {},
   "source": [
    "O'Regan explains that continuous software development is a development of Agile that involves continuous integration, continuous delivery, continuous testing, and continuous deployment of software."
   ]
  },
  {
   "cell_type": "markdown",
   "id": "1e0e4f6b-de21-4a63-95f8-e85eb4dcf759",
   "metadata": {},
   "source": [
    "Continuous integration is a practice where each developer submits their work for integration as soon as it's done, sometimes resulting in several builds during a single day. The build processes typically has an associated set of automated unit and integration tests."
   ]
  },
  {
   "cell_type": "markdown",
   "id": "07cbdb1b-9bc8-4d03-b17d-4d390ff111a3",
   "metadata": {},
   "source": [
    "Continuous delivery expands with additional automated functional tests, regression tests, and possibly acceptance tests."
   ]
  },
  {
   "cell_type": "markdown",
   "id": "4034491e-d990-4836-b10e-798680cbc5a9",
   "metadata": {},
   "source": [
    "Continuous testing allows continuous manual testing and user acceptance testing where the software is expected to change during testing."
   ]
  },
  {
   "cell_type": "markdown",
   "id": "c95eed69-7369-4b3e-881e-ee123707a8ae",
   "metadata": {},
   "source": [
    "Continuous deployment involves automating the deployment to production process with automated delivery tests prior to deployment."
   ]
  },
  {
   "cell_type": "markdown",
   "id": "92661125-4e6d-4056-8b8d-437a173e773a",
   "metadata": {},
   "source": [
    "## Activities in Software Development "
   ]
  },
  {
   "cell_type": "markdown",
   "id": "e99e04bf-682a-474f-979f-8b49b64b85a6",
   "metadata": {},
   "source": [
    "### Requirements Definition"
   ]
  },
  {
   "cell_type": "markdown",
   "id": "28a7e291-1d2f-44ea-a44e-521c2b2838a3",
   "metadata": {},
   "source": [
    "### Design"
   ]
  },
  {
   "cell_type": "markdown",
   "id": "0ea1f7b6-f933-469e-9977-00b83546b13e",
   "metadata": {},
   "source": [
    "### Implementation"
   ]
  },
  {
   "cell_type": "markdown",
   "id": "c68440e8-014f-40d4-9d4f-00843f6fd380",
   "metadata": {},
   "source": [
    "### Software Testing"
   ]
  },
  {
   "cell_type": "markdown",
   "id": "1676e2f2-9af9-4721-9130-811251d73b5a",
   "metadata": {},
   "source": [
    "### Support and Maintenance"
   ]
  }
 ],
 "metadata": {
  "kernelspec": {
   "display_name": "Python 3 (ipykernel)",
   "language": "python",
   "name": "python3"
  },
  "language_info": {
   "codemirror_mode": {
    "name": "ipython",
    "version": 3
   },
   "file_extension": ".py",
   "mimetype": "text/x-python",
   "name": "python",
   "nbconvert_exporter": "python",
   "pygments_lexer": "ipython3",
   "version": "3.12.4"
  }
 },
 "nbformat": 4,
 "nbformat_minor": 5
}
