{
 "cells": [
  {
   "cell_type": "markdown",
   "id": "dbe60a03-6fae-4c8d-97ea-f52bb716d4e5",
   "metadata": {},
   "source": [
    "# Modeling Sequential Decision Problems"
   ]
  },
  {
   "cell_type": "markdown",
   "id": "ac63a8f8-fac9-4304-9c4d-fd20a7c02ce7",
   "metadata": {},
   "source": [
    "This notebook contains study notes based on the first chapter of Warren Powell's (2022) book [*Sequential Decision Analytics: Modeling with Python*](https://castle.princeton.edu/sdamodeling/).\n",
    "\n",
    "Here's a link to relevant talk by Powell: [A Universal Framework for Sequential Decision Analytics](https://youtu.be/MGOSTRwQpZQ?si=mSt_adDKsTeHQaUo).\n",
    "\n",
    "And here's a link to the official GitHub page that accompanies the book: [stochastic-optimization](https://github.com/wbpowell328/stochastic-optimization)."
   ]
  },
  {
   "cell_type": "markdown",
   "id": "99e72f1e-d6f6-4d9a-876c-8459aa94a8a9",
   "metadata": {},
   "source": [
    "## Compact description"
   ]
  },
  {
   "cell_type": "markdown",
   "id": "07b11666-5a59-4213-a6a6-cbaa656829ef",
   "metadata": {},
   "source": [
    "Sequential decision problems are processes of the form:$$ decision, information, decision, information, decision \\ldots $$"
   ]
  },
  {
   "cell_type": "markdown",
   "id": "b515c122-b650-4d04-8c44-500e565e6a80",
   "metadata": {},
   "source": [
    "Any such problem can be modeled as $$ ( S_0, x_0, W_1, S_1, x_1, W_2, \\ldots , S_t, x_t, W_{t+1}, \\ldots , S_T ), $$"
   ]
  },
  {
   "cell_type": "markdown",
   "id": "4998f20d-04b4-4ec5-8b88-1ac9a9959a85",
   "metadata": {},
   "source": [
    "where:\n",
    "* $S_0$ is the *initial state variable* that captures:\n",
    "    1. deterministic parameter values that never change\n",
    "    2. initial values of quantities or parameters that do change\n",
    "    3. beliefs about quantities or parameters that we don't know perfectly\n",
    "* $S_t$ are *dynamic state variables* that captures all the information about the state of the system at time $t$ we need to compute the next state. There are three kinds:\n",
    "    1. Physical state $R_t$\n",
    "    2. Information state $I_t$\n",
    "    3. Belief state $B_t$\n",
    "* $x_t$ are *decision variables* that capture elements that controlled.\n",
    "* $W_t$ are *exogenous information* that arrives after a decision $x_t$."
   ]
  },
  {
   "cell_type": "markdown",
   "id": "ccea286e-9b73-47ef-9c39-5c7f68022fe0",
   "metadata": {},
   "source": [
    "<div class=\"alert alert-block alert-info\">\n",
    "See notes about $S_0$ below.\n",
    "</div>"
   ]
  },
  {
   "cell_type": "markdown",
   "id": "fe617c4c-93e5-422f-b3ae-358a03e760ad",
   "metadata": {},
   "source": [
    "Sometimes it's more natural to index decisions using a counter $n$. Then the process is$$ ( S^0, x^0, W^1, S^1, x^1, W^2, \\ldots , S^n, x^n, W^{n+1}, \\ldots , S^N ). $$And sometimes both index and time are captured, as in $(S^n_t, x^n_t,W^n_t)$."
   ]
  },
  {
   "cell_type": "markdown",
   "id": "496f264c-e5fa-465d-90ed-5a92b5978a62",
   "metadata": {},
   "source": [
    "States are updated by a *transition function* $S^M$ such that$$ S_{t+1} = S^M(S_t,x_t,W_{t+1}). $$"
   ]
  },
  {
   "cell_type": "markdown",
   "id": "0d04465d-fa99-4682-a0fa-b1697b37a3f9",
   "metadata": {},
   "source": [
    "Decision variables $x_t$ are determined by a *policy* function denoted $X^{\\pi}(S_t)$."
   ]
  },
  {
   "cell_type": "markdown",
   "id": "a8e7dfec-eccc-4ae2-80ad-d2e01d671886",
   "metadata": {},
   "source": [
    "Decisions incur a *cost* or *contribution* $$C(S_t,x_t)=C(S_t,X^{\\pi}(S_t)).$$"
   ]
  },
  {
   "cell_type": "markdown",
   "id": "389a48cd-9d69-4eb6-811c-a99d6607b1fb",
   "metadata": {},
   "source": [
    "The objective is to find the best policy to optimize some metric. The most common way of writing the *objective function* is\n",
    "$$ \\max_{\\pi} \\mathbb{E} \\left \\{ \\sum^T_{t=0} C ( S_t,X^{\\pi}(S_t) ) \\mid S_0 \\right \\}. $$"
   ]
  },
  {
   "cell_type": "markdown",
   "id": "8654c39a-1670-40c1-a86e-d97c627fd2a5",
   "metadata": {},
   "source": [
    "<div class=\"alert alert-block alert-info\">\n",
    "    <p>\n",
    "        In the last equation above, the variable $S_0$ that appears after the \"such that\" line, \"$\\mid$\", contains different information than the value of $S_t$ for $t=0$. This is a quirk of Powell's notation. It's a bit confusing but $S_0$ is not identical to $S_t$ for $t=0$. It would be less confusing if they were identical. The other information could be stored in a separate variable called $\\Phi$ or something. The last equation would then become\n",
    "    </p>\n",
    "    <p>\n",
    "        $$ \\max_{\\pi} \\mathbb{E} \\left \\{ \\sum^T_{t=0} C ( S_t,X^{\\pi}(S_t) ) \\mid ( S_0, \\Phi ) \\right \\}. $$\n",
    "    </p>\n",
    "    <p>\n",
    "        See the note below as well.\n",
    "    </p>\n",
    "</div>"
   ]
  },
  {
   "cell_type": "markdown",
   "id": "aa2df445-066a-4351-9da2-2bf42570af8e",
   "metadata": {},
   "source": [
    "## 6-Step Modeling Process "
   ]
  },
  {
   "cell_type": "markdown",
   "id": "176493ba-ef1f-4e9d-895c-fae2a4305eef",
   "metadata": {},
   "source": [
    "Powell describes the modeling process in six steps:\n",
    "\n",
    "1. Write a big picture **narrative** description of the process in plain English\n",
    "2. Write down the **core elements** of the problem:\n",
    "    * The metrics being impacted\n",
    "    * The decisions being made\n",
    "    * The sources of uncertainty\n",
    "3. Write down a **mathematical model** including all the elements in the compact description, including\n",
    "    * Initial state variable $S_0$\n",
    "    * Dynamic state variables $S_t$\n",
    "    * Decision variables $x_t$\n",
    "    * Exogenous information variables $W_{t+1}$\n",
    "    * The transition function $S^M(S_t,x_t,W_{t+1})$\n",
    "    * The cost / contribution function $C(S_t, x_t)$\n",
    "    * The objective function\n",
    "4. Write down the **uncertainty model**\n",
    "    * The initial state $S_0$ might specify distributions of uncertain state transition parameters\n",
    "    * Specify the exogenous information process through one of three ways:\n",
    "        1. Create a mathematical model\n",
    "        2. Use observations of past events\n",
    "        3. Run field experiments\n",
    "5. Design **policy functions** using one of two core strategies\n",
    "    1. Define a discrete set of functions to search over\n",
    "    2. Define a parametric family of functions and an estimation of of the expected objective value of different parameter values\n",
    "6. Find the best policy by **evaluating policies** through simulation or experimentation"
   ]
  },
  {
   "cell_type": "markdown",
   "id": "a2edf3db-6e72-4dc2-bc31-887a85d7bba4",
   "metadata": {},
   "source": [
    "## Policy Design"
   ]
  },
  {
   "cell_type": "markdown",
   "id": "eee56273-0fac-42e0-89f3-de7716eed8e8",
   "metadata": {},
   "source": [
    "Powell suggests that all of the approaches of about 15 disntinct fields that deal with sequential decisions under uncertainty can be classified under two main strategies, each of which can be further divided into two sub-classes. These classes are: "
   ]
  },
  {
   "cell_type": "markdown",
   "id": "06fe6b55-2693-4d4c-9fb9-065a8a69056e",
   "metadata": {},
   "source": [
    "### A) Policy Search"
   ]
  },
  {
   "cell_type": "markdown",
   "id": "b2e16dda-7073-408a-810f-c16e15210b7d",
   "metadata": {},
   "source": [
    "Policy search involves using techniques like simulation to search over classes of policy functions and possible over values of tunable parameters of policies."
   ]
  },
  {
   "cell_type": "markdown",
   "id": "5d7ab342-1609-428a-9146-7a8ec7cb3070",
   "metadata": {},
   "source": [
    "#### 1. Policy function approximations (PFAs)"
   ]
  },
  {
   "cell_type": "markdown",
   "id": "2c63f040-aaa1-434e-8785-452adb42bab2",
   "metadata": {},
   "source": [
    "These are analytical \n",
    "functions of a state that directly specify an action."
   ]
  },
  {
   "cell_type": "markdown",
   "id": "955c5e2b-7ff9-4654-9f0d-07978ba66ac5",
   "metadata": {},
   "source": [
    "#### 2. Cost function approximations (CFAs)"
   ]
  },
  {
   "cell_type": "markdown",
   "id": "29f15e46-4f86-4ad1-a810-ed2f05bbb240",
   "metadata": {},
   "source": [
    "These are policies that involve solving an optimization problem that is typically a simplification of the original problem, with parameters introduced to help make the policy work better over time."
   ]
  },
  {
   "cell_type": "markdown",
   "id": "885281f9-4e9b-43b9-a70b-a5fb48dea7b7",
   "metadata": {},
   "source": [
    "### B) Lookahead Policies "
   ]
  },
  {
   "cell_type": "markdown",
   "id": "470a4d77-1b20-4152-99c5-9f98ea7292ae",
   "metadata": {},
   "source": [
    "These are policies constructed by approximating the downstream costs (or rewards) from making a decision now, which are then considered along with the initial cost (or reward) of the initial decision."
   ]
  },
  {
   "cell_type": "markdown",
   "id": "6a39b15d-b89a-4d10-9835-db8991bdd82b",
   "metadata": {},
   "source": [
    "#### 3. Value function approximations (VFAs)"
   ]
  },
  {
   "cell_type": "markdown",
   "id": "9b599141-12ca-4ec6-9a1f-e6c397e6482d",
   "metadata": {},
   "source": [
    "These are policies that are based on Bellman’s equation where the value function in Bellman's equation is replaced with some approximation."
   ]
  },
  {
   "cell_type": "markdown",
   "id": "ad3b5923-56fd-4754-b8c6-d9867a61192f",
   "metadata": {},
   "source": [
    "#### 4. Direct lookahead approximations (DLAs)"
   ]
  },
  {
   "cell_type": "markdown",
   "id": "0b7b3209-5415-45a3-8350-7f9724b52089",
   "metadata": {},
   "source": [
    "These are policies derived from optimizing over a simplified approximate model (often deterministic) over some planning horizon."
   ]
  },
  {
   "cell_type": "markdown",
   "id": "545036f1-adb9-46ad-87be-eabb2e9d870f",
   "metadata": {},
   "source": [
    "## A Simple Example: Inventory Problem "
   ]
  },
  {
   "cell_type": "markdown",
   "id": "b6121c02-f5da-4879-aadc-e9c23f50022e",
   "metadata": {},
   "source": [
    "Powell provides the following simple example to illustrate the above ideas."
   ]
  },
  {
   "cell_type": "markdown",
   "id": "4db426b0-04f5-45d2-87b7-1a668fb6999b",
   "metadata": {},
   "source": [
    "### 1. Narative"
   ]
  },
  {
   "cell_type": "markdown",
   "id": "2d6ff543-e9ee-415b-98c0-22c570dadc37",
   "metadata": {},
   "source": [
    "A pizza restaurant has to decide how many pounds of sausage to order from its food distributor. The restaurant has to make the decision at the end of day $t$, communicate the order which then arrives the following morning to meet tomorrow’s orders. If there is sausage left over, it can be held to the following day. The cost of the sausage, and the price that it will be sold for the next day, is known in advance, but the demand is not."
   ]
  },
  {
   "cell_type": "markdown",
   "id": "d15c5251-3e1d-4999-8066-e571cc8995ed",
   "metadata": {},
   "source": [
    "### 2. Core Elements"
   ]
  },
  {
   "cell_type": "markdown",
   "id": "07ec64a3-208d-47bd-a8a6-86cfd0c5ea2c",
   "metadata": {},
   "source": [
    "* **Metrics** - We want to maximize profits given by the sales of sausage minus the cost of purchasing the sausage.\n",
    "* **Decisions** - We have to decide how much to order at the end of one day. Orders arrive at the beginning of the next day.\n",
    "* **Sources of Uncertainty** - The only source of uncertainty in this example is the demand for sausage the next day. "
   ]
  },
  {
   "cell_type": "markdown",
   "id": "efc3605a-f582-403a-9565-4399a4ba5e32",
   "metadata": {},
   "source": [
    "### 3. Mathematical Model"
   ]
  },
  {
   "cell_type": "markdown",
   "id": "bb95cdf8-a81f-43fd-9b8f-8e723efe55ca",
   "metadata": {},
   "source": [
    "#### State variables"
   ]
  },
  {
   "cell_type": "markdown",
   "id": "4e45195c-b0cf-4ecc-8d0d-fb04920fef10",
   "metadata": {},
   "source": [
    "The *initial state variable* is"
   ]
  },
  {
   "cell_type": "markdown",
   "id": "b35097ca-5f6c-435b-b6ff-f9fcc77dcce1",
   "metadata": {},
   "source": [
    "$$S_0 = (p,c,\\bar{D},\\bar{\\sigma}^D),$$"
   ]
  },
  {
   "cell_type": "markdown",
   "id": "c4c4b97a-789e-4bd2-825e-dc178b73e0bc",
   "metadata": {},
   "source": [
    "where $p$ is the price we charge for sausage, $c$ is our purchase cost of sausage, and $(\\bar{D},\\bar{\\sigma}^D)$ are the mean and standard deviation of the demand, and $R_0^{\\text{inv}}$ is the initial inventory level of sausage."
   ]
  },
  {
   "cell_type": "markdown",
   "id": "ca4b48d3-ea4c-41ea-bf46-a419c324ca88",
   "metadata": {},
   "source": [
    "The *dynamic state variable* is"
   ]
  },
  {
   "cell_type": "markdown",
   "id": "2584f40d-d676-4a39-af90-d94881cec030",
   "metadata": {},
   "source": [
    "$$S_t=R_t^{\\text{inv}},$$"
   ]
  },
  {
   "cell_type": "markdown",
   "id": "841efeed-1af0-45e7-8c76-c89ce8041d29",
   "metadata": {},
   "source": [
    "where $R_t^{\\text{inv}}$ is the amount of sausage in inventory at time $t$."
   ]
  },
  {
   "cell_type": "markdown",
   "id": "6a1ec571-005c-4cd0-a98e-e40083b722fd",
   "metadata": {},
   "source": [
    "<div class=\"alert alert-block alert-info\">\n",
    "    <p>\n",
    "        Note that $S_0 \\neq R_0^{\\text{inv}}$. It would be less confusing if we had $S_0=R_0^{\\text{inv}}$ and $\\Phi = (p,c,\\bar{D},\\bar{\\sigma}^D)$.\n",
    "    </p>\n",
    "    <p>\n",
    "        See note about $S_0$ above as well.\n",
    "    </p>\n",
    "</div>"
   ]
  },
  {
   "cell_type": "markdown",
   "id": "4177253d-f54c-43ff-be35-f49369acd665",
   "metadata": {},
   "source": [
    "#### Decision variable"
   ]
  },
  {
   "cell_type": "markdown",
   "id": "ff85d724-d8e7-41d5-89c4-d2567526208f",
   "metadata": {},
   "source": [
    "The decision variable $x_t$ is how much sausage we order at time $t$."
   ]
  },
  {
   "cell_type": "markdown",
   "id": "7b567d96-9cd3-483c-bf5f-3439aa22d602",
   "metadata": {},
   "source": [
    "#### Exogenous information"
   ]
  },
  {
   "cell_type": "markdown",
   "id": "e6b3ee97-f5f6-4058-b133-22b054c594da",
   "metadata": {},
   "source": [
    "The exogenous information is the random demand for sauage, denoted"
   ]
  },
  {
   "cell_type": "markdown",
   "id": "0f677ed3-16d2-4bf2-bcc6-dc750d0bb0be",
   "metadata": {},
   "source": [
    "$$W_{t+1}=\\hat{D}_{t+1}.$$"
   ]
  },
  {
   "cell_type": "markdown",
   "id": "d5f79458-64a9-4e9d-bc93-9a7ec633ac2d",
   "metadata": {},
   "source": [
    "#### Transition Function"
   ]
  },
  {
   "cell_type": "markdown",
   "id": "189ed57c-7f8c-49bb-ad25-a2520ac333f9",
   "metadata": {},
   "source": [
    "The inventory left at the end of the day $t+1$, will be the inventory left at the end of day $t$, plus how much we order on day $t$, minus the random demand on day $t+1$, or zero if we run out of sausage before the full demand is met. We can write that as follows:"
   ]
  },
  {
   "cell_type": "markdown",
   "id": "1e094355-c470-4fff-9e19-2da63f1b42b5",
   "metadata": {},
   "source": [
    "$$ R_{t+1}^{\\text{inv}} =\\max{\\left\\{ 0, R_t^{\\text{inv}} +x_t + \\hat{D}_{t+1} \\right\\}}. $$"
   ]
  },
  {
   "cell_type": "markdown",
   "id": "3dd0f6db-2820-4fba-8a64-bc91bac44c58",
   "metadata": {},
   "source": [
    "#### Contribution Function"
   ]
  },
  {
   "cell_type": "markdown",
   "id": "624edaa9-19a1-4ded-ac1e-0328eb6571a7",
   "metadata": {},
   "source": [
    "The contribution to profit for buying $x_t$ sausage on day $t$ is the selling price $p$ of sausage multiplied by how much was sold, which is the least of the full inventory $R_t^{\\text{inv}} +x_t$ at day $t+1$ or the random demand $\\hat{D}_{t+1}$ on day $t+1$, minus the cost of sausage $c$ multiplied by how much was bought $x_t$. The following formula will compute the contribution:"
   ]
  },
  {
   "cell_type": "markdown",
   "id": "06653f2e-dc46-486e-8c17-b30afcbbabdc",
   "metadata": {},
   "source": [
    "$$ C(S_t,x_t,\\hat{D}_{t+1}) = p \\min \\left \\{R^{\\text{inv}}_t+x_t,\\hat{D}_{t+1} \\right \\} -cx_t. $$"
   ]
  },
  {
   "cell_type": "markdown",
   "id": "fe3e815e-19ac-4ef8-a6cb-da13c3e452d2",
   "metadata": {},
   "source": [
    "#### Objective Function"
   ]
  },
  {
   "cell_type": "markdown",
   "id": "a03a059b-3186-4cc8-878b-6107a257adf6",
   "metadata": {},
   "source": [
    "The objective is to find the policy $\\pi$ that maximize sum total of profits over all time periods, averaged over the random demand process $\\hat{D}_1,\\ldots,\\hat{D}_T$."
   ]
  },
  {
   "cell_type": "markdown",
   "id": "98241be1-2e91-4b96-bd28-b8772d5b80b0",
   "metadata": {},
   "source": [
    "$$ \\max_{\\pi} F^{\\pi} = \\max_{\\pi} \\mathbb{E} \\left \\{ \\sum_{t=0}^T C(S_t,X^{\\pi}(S_t),\\hat{D}_{t+1}) \\mid S_0 \\right \\}. $$"
   ]
  },
  {
   "cell_type": "markdown",
   "id": "00ebdaba-9fdf-4cb2-bd2f-fadd24610198",
   "metadata": {},
   "source": [
    "### 4. Uncertainty Model"
   ]
  },
  {
   "cell_type": "markdown",
   "id": "efc832d2-209b-4f3b-b44b-e623922c9053",
   "metadata": {},
   "source": [
    "A simple mathematical model for the demand process is to assume demand is normally distributed with some mean $\\bar{D}$ and standard deviation $\\bar{\\sigma}^D$. If these are known, demand can be written as"
   ]
  },
  {
   "cell_type": "markdown",
   "id": "e69cf4fa-6dbd-4845-b191-3dedcce5bbf1",
   "metadata": {},
   "source": [
    "$$ \\hat{D}_{t+1} \\sim N (\\bar{D}, (\\bar{\\sigma}^D)^2 ). $$"
   ]
  },
  {
   "cell_type": "markdown",
   "id": "fb08ba18-1b69-40d1-b2dc-df9dbcf016d6",
   "metadata": {},
   "source": [
    "### 5. Policy"
   ]
  },
  {
   "cell_type": "markdown",
   "id": "4e77463e-d556-40b6-8ea0-29e0460c40cd",
   "metadata": {},
   "source": [
    "A common policy for inventory problems is called \"order-up-to\" which can be written as"
   ]
  },
  {
   "cell_type": "markdown",
   "id": "ee71901d-8cab-43c5-8611-0a9cfd86acf6",
   "metadata": {},
   "source": [
    "$$ \n",
    "X^{\\pi}(S_t \\mid \\theta)=\\bigg\\{\\begin{array}{cl}\n",
    "\\theta^{max} - R_t & \\text{if } R_t \\lt \\theta^{min}, \\\\\n",
    "0 & \\text{otherwise} ,\n",
    "\\end{array}\n",
    "$$"
   ]
  },
  {
   "cell_type": "markdown",
   "id": "3003d85c-78b1-4cae-8afa-032dac610e53",
   "metadata": {},
   "source": [
    "where $\\theta=(\\theta^{min},\\theta^{max})$ is a set of tunable parameters that define a lower and upper limit for inventory levels such that inventories are restored up to the upper limit when they drop below the lower limit."
   ]
  },
  {
   "cell_type": "markdown",
   "id": "499f6bc4-4fc1-43af-966d-0fdf79f79851",
   "metadata": {},
   "source": [
    "### 6. Evaluation"
   ]
  },
  {
   "cell_type": "markdown",
   "id": "38c59ecd-12a9-4b38-9822-9f2aa53c6669",
   "metadata": {},
   "source": [
    "Even though there is no analytical way to compute the value of the objective function exactly, we can resort to numerical estimation using simulation. We can simulate $N$ sample paths of random demands $\\hat{D}^n_1,\\ldots,\\hat{D}^n_T$ and estimate the expected profits by averaging over these samples like this:"
   ]
  },
  {
   "cell_type": "markdown",
   "id": "6f5c2dab-2d56-4092-b1bf-fa16bde6cd45",
   "metadata": {},
   "source": [
    "$$ \\bar{F}^{\\pi}(\\theta) = \\frac{1}{N} \\sum_{n=1}^{N} \\sum_{t=0}^{T} C(S_t,X^{\\pi}(S_t\\mid\\theta),\\hat{D}^n_{t+1}). $$"
   ]
  },
  {
   "cell_type": "markdown",
   "id": "94d73978-605c-43e9-bca6-13cf6f1eb7f7",
   "metadata": {},
   "source": [
    "Then we're left to find the value of $\\theta=(\\theta^{min},\\theta^{max})$ that gives the highest average profit as computed above."
   ]
  },
  {
   "cell_type": "markdown",
   "id": "5f64bc47-6936-404d-a2ca-afbae7dff2cb",
   "metadata": {},
   "source": [
    "### Python Implementation"
   ]
  },
  {
   "cell_type": "markdown",
   "id": "c2c4d1ba-18bc-458c-ad5c-d7e7d18000d9",
   "metadata": {},
   "source": [
    "#### Import Libraries "
   ]
  },
  {
   "cell_type": "markdown",
   "id": "ee8ce722-04cc-4799-aaab-8af00eeb8878",
   "metadata": {},
   "source": [
    "We're going to use a couple of common libraries:"
   ]
  },
  {
   "cell_type": "code",
   "execution_count": 1,
   "id": "6a6c8b6d-2d0e-4300-bfd4-cbc5c9f78fd2",
   "metadata": {},
   "outputs": [],
   "source": [
    "import math\n",
    "import numpy as np\n",
    "import pandas as pd\n",
    "import seaborn as sns\n",
    "sns.set(color_codes=True)"
   ]
  },
  {
   "cell_type": "markdown",
   "id": "e51d62d2-d210-40c9-a56c-73361b117b10",
   "metadata": {},
   "source": [
    "#### Simulate One Repetition Of T Days "
   ]
  },
  {
   "cell_type": "markdown",
   "id": "b8c17a5c-b53e-4511-a86f-2210e02a077f",
   "metadata": {},
   "source": [
    "We define a function to define values of $S_0$."
   ]
  },
  {
   "cell_type": "code",
   "execution_count": 2,
   "id": "4606867f-3113-4009-be55-61d4e0f5bb33",
   "metadata": {},
   "outputs": [],
   "source": [
    "def init_S0(p,c,Dhat,sigmahatD):\n",
    "    S0 = {\n",
    "        'p': p,\n",
    "        'c': c,\n",
    "        'Dhat': Dhat,\n",
    "        'sigmahat^D': sigmahatD\n",
    "    }\n",
    "    return S0"
   ]
  },
  {
   "cell_type": "markdown",
   "id": "8d4d56b1-883a-4ff6-82bf-cf4faeda848c",
   "metadata": {},
   "source": [
    "For example, we can arbitrarily let"
   ]
  },
  {
   "cell_type": "markdown",
   "id": "7f0a3051-dbe9-40ab-971a-63d5508b2848",
   "metadata": {},
   "source": [
    "$$S_0 = (p,c,\\bar{D},\\bar{\\sigma}^D) = (2,1.5,50,10).$$"
   ]
  },
  {
   "cell_type": "code",
   "execution_count": 3,
   "id": "6fbe71a3-d921-4dee-8f85-1f7d9a3b1088",
   "metadata": {},
   "outputs": [
    {
     "name": "stdout",
     "output_type": "stream",
     "text": [
      "{'p': 2, 'c': 1.5, 'Dhat': 50, 'sigmahat^D': 15}\n"
     ]
    }
   ],
   "source": [
    "S0 = init_S0(2,1.5,50,15)\n",
    "print(S0)"
   ]
  },
  {
   "cell_type": "markdown",
   "id": "21050aa5-8221-41bf-b639-504a37e0b3cc",
   "metadata": {},
   "source": [
    "We define the transition function as follows:"
   ]
  },
  {
   "cell_type": "code",
   "execution_count": 4,
   "id": "9973c211-83b1-4cd7-91e4-2ce981783a57",
   "metadata": {},
   "outputs": [],
   "source": [
    "def SM(S_t, x_t, W_tp1):\n",
    "    return np.max([0, S_t + x_t - W_tp1])"
   ]
  },
  {
   "cell_type": "markdown",
   "id": "c9e15803-742d-4697-ba05-189b264f34b1",
   "metadata": {},
   "source": [
    "For example:"
   ]
  },
  {
   "cell_type": "code",
   "execution_count": 5,
   "id": "9966ec97-ad81-4236-a3dc-c76cedd3295a",
   "metadata": {},
   "outputs": [
    {
     "data": {
      "text/plain": [
       "30"
      ]
     },
     "execution_count": 5,
     "metadata": {},
     "output_type": "execute_result"
    }
   ],
   "source": [
    "SM(40, 40, 50)"
   ]
  },
  {
   "cell_type": "code",
   "execution_count": 6,
   "id": "2dd36709-6393-448d-9c2f-02d1cb0db6db",
   "metadata": {},
   "outputs": [
    {
     "data": {
      "text/plain": [
       "0"
      ]
     },
     "execution_count": 6,
     "metadata": {},
     "output_type": "execute_result"
    }
   ],
   "source": [
    "SM(10,10, 50)"
   ]
  },
  {
   "cell_type": "markdown",
   "id": "7f0d8307-9892-43b5-905b-e27007ad43b4",
   "metadata": {},
   "source": [
    "We define the contribution function as follows:"
   ]
  },
  {
   "cell_type": "code",
   "execution_count": 7,
   "id": "664d74c7-84b9-45cc-a3cf-b0b0af927f06",
   "metadata": {},
   "outputs": [],
   "source": [
    "def C(S_t, x_t, W_tp1, S0):\n",
    "    p = S0['p']\n",
    "    c = S0['c']\n",
    "    return p*np.min([S_t + x_t, W_tp1]) - c*x_t"
   ]
  },
  {
   "cell_type": "markdown",
   "id": "b1054a3e-3fc4-4fdb-89e1-8939ea14e4c1",
   "metadata": {},
   "source": [
    "For example:"
   ]
  },
  {
   "cell_type": "code",
   "execution_count": 8,
   "id": "f9d4b4a6-6a00-4a5e-859a-042eaa2ca574",
   "metadata": {},
   "outputs": [
    {
     "data": {
      "text/plain": [
       "25.0"
      ]
     },
     "execution_count": 8,
     "metadata": {},
     "output_type": "execute_result"
    }
   ],
   "source": [
    "C(10,10,50,S0)"
   ]
  },
  {
   "cell_type": "code",
   "execution_count": 9,
   "id": "5dd89f62-996e-4e8d-bc4d-66bda6e8ea70",
   "metadata": {},
   "outputs": [
    {
     "data": {
      "text/plain": [
       "100.0"
      ]
     },
     "execution_count": 9,
     "metadata": {},
     "output_type": "execute_result"
    }
   ],
   "source": [
    "C(100,0,50,S0)"
   ]
  },
  {
   "cell_type": "markdown",
   "id": "3ca2e4bf-7be9-4ed1-8778-f7baf9670c45",
   "metadata": {},
   "source": [
    "We define the function that draws one random sample from a normal distribution with mean $\\hat{D}$ and standard deviation $\\hat{\\sigma}^D$ as follows:"
   ]
  },
  {
   "cell_type": "code",
   "execution_count": 10,
   "id": "624acf0f-5ffe-4360-9eda-fb976ad4584e",
   "metadata": {},
   "outputs": [],
   "source": [
    "def WM(S0):\n",
    "    return np.random.normal(S0['Dhat'], S0['sigmahat^D'])"
   ]
  },
  {
   "cell_type": "markdown",
   "id": "898de65d-d9a5-40fd-8829-6d6cd818c448",
   "metadata": {},
   "source": [
    "For example:"
   ]
  },
  {
   "cell_type": "code",
   "execution_count": 11,
   "id": "ffe98b62-f09a-47ff-92f9-3825483044c7",
   "metadata": {},
   "outputs": [
    {
     "data": {
      "text/plain": [
       "47.771307967336284"
      ]
     },
     "execution_count": 11,
     "metadata": {},
     "output_type": "execute_result"
    }
   ],
   "source": [
    "WM(S0)"
   ]
  },
  {
   "cell_type": "code",
   "execution_count": 12,
   "id": "5e77a11e-a743-49f9-abbe-7968a7541fa3",
   "metadata": {},
   "outputs": [
    {
     "data": {
      "text/plain": [
       "49.294373076906666"
      ]
     },
     "execution_count": 12,
     "metadata": {},
     "output_type": "execute_result"
    }
   ],
   "source": [
    "WM(S0)"
   ]
  },
  {
   "cell_type": "markdown",
   "id": "9a6bba51-f6ae-4056-a19d-49d440e45ce4",
   "metadata": {},
   "source": [
    "We define the order-up-to policy function like this:"
   ]
  },
  {
   "cell_type": "code",
   "execution_count": 13,
   "id": "00333465-be59-4145-b311-11af64bff19b",
   "metadata": {},
   "outputs": [],
   "source": [
    "def Xpi(S_t, theta):\n",
    "    theta_min = theta['theta_min']\n",
    "    theta_max = theta['theta_max']\n",
    "    if S_t < theta_min:\n",
    "        return theta_max - S_t\n",
    "    else:\n",
    "        return 0"
   ]
  },
  {
   "cell_type": "markdown",
   "id": "213eb1b6-8b27-4eec-bac1-760a01eb5284",
   "metadata": {},
   "source": [
    "For example:"
   ]
  },
  {
   "cell_type": "code",
   "execution_count": 14,
   "id": "72e55c8f-eb1e-4333-b381-2daea46606b5",
   "metadata": {},
   "outputs": [],
   "source": [
    "theta = {\n",
    "    'theta_min': 50,\n",
    "    'theta_max': 100\n",
    "}"
   ]
  },
  {
   "cell_type": "code",
   "execution_count": 15,
   "id": "1061864c-0bf3-4428-9d76-7c18b35dcd32",
   "metadata": {},
   "outputs": [
    {
     "data": {
      "text/plain": [
       "70"
      ]
     },
     "execution_count": 15,
     "metadata": {},
     "output_type": "execute_result"
    }
   ],
   "source": [
    "Xpi(30, theta)"
   ]
  },
  {
   "cell_type": "code",
   "execution_count": 16,
   "id": "001919a0-7646-47ac-90a9-58ee723eefc3",
   "metadata": {},
   "outputs": [
    {
     "data": {
      "text/plain": [
       "0"
      ]
     },
     "execution_count": 16,
     "metadata": {},
     "output_type": "execute_result"
    }
   ],
   "source": [
    "Xpi(90, theta)"
   ]
  },
  {
   "cell_type": "markdown",
   "id": "61be4b04-1eb0-4564-af7c-0e3c347794bb",
   "metadata": {},
   "source": [
    "We define a simulation of one sample of $T$ times as follows:"
   ]
  },
  {
   "cell_type": "code",
   "execution_count": 17,
   "id": "9eb06d0d-2010-493f-985d-3323408b68c1",
   "metadata": {},
   "outputs": [],
   "source": [
    "def sim_one_rep(p,c,Dhat,sigmahatD,S_0,num_days,theta):\n",
    "    S0 = init_S0(p,c,Dhat,sigmahatD)\n",
    "    T_ = np.arange(0, num_days, dtype=int)\n",
    "    S_ = np.zeros(num_days, dtype=float)\n",
    "    S_[0] = S_0\n",
    "    x_ = np.zeros(num_days, dtype=float)\n",
    "    W_ = np.zeros(num_days, dtype=float)\n",
    "    C_ = np.zeros(num_days, dtype=float)\n",
    "\n",
    "    for t in T_[:-1]:\n",
    "        x_[t] = Xpi(S_[t], theta)\n",
    "        W_[t+1] = WM(S0)\n",
    "        C_[t] = C(S_[t],x_[t],W_[t+1],S0)\n",
    "        S_[t+1] = SM(S_[t],x_[t],W_[t+1])\n",
    "\n",
    "    df = pd.DataFrame({'t':T_, 'S_t':S_, 'x_t':x_, 'W_t':W_, 'C_t':C_})\n",
    "    df['Cumulative(C_t)'] = df['C_t'].cumsum()\n",
    "    \n",
    "    return df\n",
    "        "
   ]
  },
  {
   "cell_type": "markdown",
   "id": "3d9d69e2-6355-4287-9ddb-a517ff161484",
   "metadata": {},
   "source": [
    "For example:"
   ]
  },
  {
   "cell_type": "code",
   "execution_count": 18,
   "id": "bf28f83d-33e1-4582-a57e-51c12650069d",
   "metadata": {},
   "outputs": [],
   "source": [
    "p = np.float32(2)\n",
    "c = np.float32(1.5)\n",
    "Dhat = np.float32(50)\n",
    "sigmahatD = np.float32(15)\n",
    "S_0 = np.float32(0)\n",
    "num_days = np.int64(365)\n",
    "theta = {\n",
    "    'theta_min': np.float32(50),\n",
    "    'theta_max': np.float32(100)\n",
    "}\n",
    "results_one_rep = sim_one_rep(p,c,Dhat,sigmahatD,S_0,num_days,theta)"
   ]
  },
  {
   "cell_type": "code",
   "execution_count": 19,
   "id": "07f56a81-4c91-4824-96f2-fc1b095303a7",
   "metadata": {},
   "outputs": [
    {
     "data": {
      "text/html": [
       "<div>\n",
       "<style scoped>\n",
       "    .dataframe tbody tr th:only-of-type {\n",
       "        vertical-align: middle;\n",
       "    }\n",
       "\n",
       "    .dataframe tbody tr th {\n",
       "        vertical-align: top;\n",
       "    }\n",
       "\n",
       "    .dataframe thead th {\n",
       "        text-align: right;\n",
       "    }\n",
       "</style>\n",
       "<table border=\"1\" class=\"dataframe\">\n",
       "  <thead>\n",
       "    <tr style=\"text-align: right;\">\n",
       "      <th></th>\n",
       "      <th>t</th>\n",
       "      <th>S_t</th>\n",
       "      <th>x_t</th>\n",
       "      <th>W_t</th>\n",
       "      <th>C_t</th>\n",
       "      <th>Cumulative(C_t)</th>\n",
       "    </tr>\n",
       "  </thead>\n",
       "  <tbody>\n",
       "    <tr>\n",
       "      <th>0</th>\n",
       "      <td>0</td>\n",
       "      <td>0.000000</td>\n",
       "      <td>100.000000</td>\n",
       "      <td>0.000000</td>\n",
       "      <td>-22.806452</td>\n",
       "      <td>-22.806452</td>\n",
       "    </tr>\n",
       "    <tr>\n",
       "      <th>1</th>\n",
       "      <td>1</td>\n",
       "      <td>36.403226</td>\n",
       "      <td>63.596774</td>\n",
       "      <td>63.596774</td>\n",
       "      <td>-15.244259</td>\n",
       "      <td>-38.050711</td>\n",
       "    </tr>\n",
       "    <tr>\n",
       "      <th>2</th>\n",
       "      <td>2</td>\n",
       "      <td>59.924549</td>\n",
       "      <td>0.000000</td>\n",
       "      <td>40.075451</td>\n",
       "      <td>119.849098</td>\n",
       "      <td>81.798387</td>\n",
       "    </tr>\n",
       "    <tr>\n",
       "      <th>3</th>\n",
       "      <td>3</td>\n",
       "      <td>0.000000</td>\n",
       "      <td>100.000000</td>\n",
       "      <td>73.046077</td>\n",
       "      <td>-43.388004</td>\n",
       "      <td>38.410383</td>\n",
       "    </tr>\n",
       "    <tr>\n",
       "      <th>4</th>\n",
       "      <td>4</td>\n",
       "      <td>46.694002</td>\n",
       "      <td>53.305998</td>\n",
       "      <td>53.305998</td>\n",
       "      <td>5.374180</td>\n",
       "      <td>43.784563</td>\n",
       "    </tr>\n",
       "  </tbody>\n",
       "</table>\n",
       "</div>"
      ],
      "text/plain": [
       "   t        S_t         x_t        W_t         C_t  Cumulative(C_t)\n",
       "0  0   0.000000  100.000000   0.000000  -22.806452       -22.806452\n",
       "1  1  36.403226   63.596774  63.596774  -15.244259       -38.050711\n",
       "2  2  59.924549    0.000000  40.075451  119.849098        81.798387\n",
       "3  3   0.000000  100.000000  73.046077  -43.388004        38.410383\n",
       "4  4  46.694002   53.305998  53.305998    5.374180        43.784563"
      ]
     },
     "execution_count": 19,
     "metadata": {},
     "output_type": "execute_result"
    }
   ],
   "source": [
    "results_one_rep.head()"
   ]
  },
  {
   "cell_type": "code",
   "execution_count": 20,
   "id": "1b9f3508-2028-4290-a1d3-3e49e0cfa218",
   "metadata": {},
   "outputs": [
    {
     "data": {
      "text/html": [
       "<div>\n",
       "<style scoped>\n",
       "    .dataframe tbody tr th:only-of-type {\n",
       "        vertical-align: middle;\n",
       "    }\n",
       "\n",
       "    .dataframe tbody tr th {\n",
       "        vertical-align: top;\n",
       "    }\n",
       "\n",
       "    .dataframe thead th {\n",
       "        text-align: right;\n",
       "    }\n",
       "</style>\n",
       "<table border=\"1\" class=\"dataframe\">\n",
       "  <thead>\n",
       "    <tr style=\"text-align: right;\">\n",
       "      <th></th>\n",
       "      <th>t</th>\n",
       "      <th>S_t</th>\n",
       "      <th>x_t</th>\n",
       "      <th>W_t</th>\n",
       "      <th>C_t</th>\n",
       "      <th>Cumulative(C_t)</th>\n",
       "    </tr>\n",
       "  </thead>\n",
       "  <tbody>\n",
       "    <tr>\n",
       "      <th>360</th>\n",
       "      <td>360</td>\n",
       "      <td>59.505181</td>\n",
       "      <td>0.00000</td>\n",
       "      <td>40.494819</td>\n",
       "      <td>94.199322</td>\n",
       "      <td>8708.683202</td>\n",
       "    </tr>\n",
       "    <tr>\n",
       "      <th>361</th>\n",
       "      <td>361</td>\n",
       "      <td>12.405520</td>\n",
       "      <td>87.59448</td>\n",
       "      <td>47.099661</td>\n",
       "      <td>68.608280</td>\n",
       "      <td>8777.291482</td>\n",
       "    </tr>\n",
       "    <tr>\n",
       "      <th>362</th>\n",
       "      <td>362</td>\n",
       "      <td>0.000000</td>\n",
       "      <td>100.00000</td>\n",
       "      <td>100.817929</td>\n",
       "      <td>-44.181779</td>\n",
       "      <td>8733.109702</td>\n",
       "    </tr>\n",
       "    <tr>\n",
       "      <th>363</th>\n",
       "      <td>363</td>\n",
       "      <td>47.090890</td>\n",
       "      <td>52.90911</td>\n",
       "      <td>52.909110</td>\n",
       "      <td>54.902708</td>\n",
       "      <td>8788.012410</td>\n",
       "    </tr>\n",
       "    <tr>\n",
       "      <th>364</th>\n",
       "      <td>364</td>\n",
       "      <td>32.866813</td>\n",
       "      <td>0.00000</td>\n",
       "      <td>67.133187</td>\n",
       "      <td>0.000000</td>\n",
       "      <td>8788.012410</td>\n",
       "    </tr>\n",
       "  </tbody>\n",
       "</table>\n",
       "</div>"
      ],
      "text/plain": [
       "       t        S_t        x_t         W_t        C_t  Cumulative(C_t)\n",
       "360  360  59.505181    0.00000   40.494819  94.199322      8708.683202\n",
       "361  361  12.405520   87.59448   47.099661  68.608280      8777.291482\n",
       "362  362   0.000000  100.00000  100.817929 -44.181779      8733.109702\n",
       "363  363  47.090890   52.90911   52.909110  54.902708      8788.012410\n",
       "364  364  32.866813    0.00000   67.133187   0.000000      8788.012410"
      ]
     },
     "execution_count": 20,
     "metadata": {},
     "output_type": "execute_result"
    }
   ],
   "source": [
    "results_one_rep.tail()"
   ]
  },
  {
   "cell_type": "markdown",
   "id": "f41918fc-87ac-455f-9725-919fe6fd31cf",
   "metadata": {},
   "source": [
    "We can check a histogram of random demands."
   ]
  },
  {
   "cell_type": "code",
   "execution_count": 21,
   "id": "3cdf5568-2d4d-4619-b716-8ca0a98e98ba",
   "metadata": {},
   "outputs": [
    {
     "data": {
      "text/plain": [
       "<seaborn.axisgrid.FacetGrid at 0x19554ef9d60>"
      ]
     },
     "execution_count": 21,
     "metadata": {},
     "output_type": "execute_result"
    },
    {
     "data": {
      "image/png": "[encoded data removed]",
      "text/plain": [
       "<Figure size 500x500 with 1 Axes>"
      ]
     },
     "metadata": {},
     "output_type": "display_data"
    }
   ],
   "source": [
    "sns.displot(data=results_one_rep, x=\"W_t\", kde=True, bins=11)"
   ]
  },
  {
   "cell_type": "markdown",
   "id": "d3ffca63-33a8-4ea2-9d81-7fcc0a300635",
   "metadata": {},
   "source": [
    "And we can check total cumulative contirbutions over time."
   ]
  },
  {
   "cell_type": "code",
   "execution_count": 22,
   "id": "aabf0b65-06b1-40f1-847a-775b5a7de493",
   "metadata": {},
   "outputs": [
    {
     "data": {
      "text/plain": [
       "<Axes: xlabel='t', ylabel='Cumulative(C_t)'>"
      ]
     },
     "execution_count": 22,
     "metadata": {},
     "output_type": "execute_result"
    },
    {
     "data": {
      "image/png": "[encoded data removed]",
      "text/plain": [
       "<Figure size 640x480 with 1 Axes>"
      ]
     },
     "metadata": {},
     "output_type": "display_data"
    }
   ],
   "source": [
    "sns.lineplot(data=results_one_rep, x=\"t\", y='Cumulative(C_t)')"
   ]
  },
  {
   "cell_type": "markdown",
   "id": "a1957d3a-0ddf-4f92-8325-d36456f5623d",
   "metadata": {},
   "source": [
    "#### Simulate Many Repetitions To Estimate Value of Policy"
   ]
  },
  {
   "cell_type": "markdown",
   "id": "c21c454f-1013-4270-98ce-63a4b8199a53",
   "metadata": {},
   "source": [
    "To evaluate the policy, we can repeat the simulation $N$ times and calculate the average total cumulative contributions. "
   ]
  },
  {
   "cell_type": "code",
   "execution_count": 23,
   "id": "c5588e75-e3dc-4c1e-b05d-595cfcbe435f",
   "metadata": {},
   "outputs": [],
   "source": [
    "def sim_N_reps(p,c,Dhat,sigmahatD,S_0,num_days,theta,N):\n",
    "    reps = np.arange(0, N, dtype=int)\n",
    "    results_array = [None] * N\n",
    "    total_contributions = np.zeros(N, float)\n",
    "    for n in reps:\n",
    "        results = sim_one_rep(p,c,Dhat,sigmahatD,S_0,num_days,theta)\n",
    "        results_array[n] = results\n",
    "        total_contributions[n] = results['Cumulative(C_t)'].iloc[-1]\n",
    "    \n",
    "    df = pd.DataFrame({'Repetition': reps, 'Total Contributions': total_contributions})\n",
    "    df['Cumulative Average'] = df['Total Contributions'].expanding().mean()\n",
    "\n",
    "    return df"
   ]
  },
  {
   "cell_type": "markdown",
   "id": "aa16c888-6fd6-4390-b656-12a18ff6ac1f",
   "metadata": {},
   "source": [
    "For example:"
   ]
  },
  {
   "cell_type": "code",
   "execution_count": 24,
   "id": "4fe88e1a-8b1c-4dbc-9a38-35de7d419ec6",
   "metadata": {},
   "outputs": [],
   "source": [
    "N = 300\n",
    "results_N_reps = sim_N_reps(p,c,Dhat,sigmahatD,S_0,num_days,theta,N)"
   ]
  },
  {
   "cell_type": "code",
   "execution_count": 25,
   "id": "1d6755ae-f144-42d4-804a-a100ecab3569",
   "metadata": {},
   "outputs": [
    {
     "data": {
      "text/html": [
       "<div>\n",
       "<style scoped>\n",
       "    .dataframe tbody tr th:only-of-type {\n",
       "        vertical-align: middle;\n",
       "    }\n",
       "\n",
       "    .dataframe tbody tr th {\n",
       "        vertical-align: top;\n",
       "    }\n",
       "\n",
       "    .dataframe thead th {\n",
       "        text-align: right;\n",
       "    }\n",
       "</style>\n",
       "<table border=\"1\" class=\"dataframe\">\n",
       "  <thead>\n",
       "    <tr style=\"text-align: right;\">\n",
       "      <th></th>\n",
       "      <th>Repetition</th>\n",
       "      <th>Total Contributions</th>\n",
       "      <th>Cumulative Average</th>\n",
       "    </tr>\n",
       "  </thead>\n",
       "  <tbody>\n",
       "    <tr>\n",
       "      <th>0</th>\n",
       "      <td>0</td>\n",
       "      <td>8739.705819</td>\n",
       "      <td>8739.705819</td>\n",
       "    </tr>\n",
       "    <tr>\n",
       "      <th>1</th>\n",
       "      <td>1</td>\n",
       "      <td>9057.862658</td>\n",
       "      <td>8898.784238</td>\n",
       "    </tr>\n",
       "    <tr>\n",
       "      <th>2</th>\n",
       "      <td>2</td>\n",
       "      <td>9064.632946</td>\n",
       "      <td>8954.067141</td>\n",
       "    </tr>\n",
       "    <tr>\n",
       "      <th>3</th>\n",
       "      <td>3</td>\n",
       "      <td>8901.333082</td>\n",
       "      <td>8940.883626</td>\n",
       "    </tr>\n",
       "    <tr>\n",
       "      <th>4</th>\n",
       "      <td>4</td>\n",
       "      <td>9006.964494</td>\n",
       "      <td>8954.099799</td>\n",
       "    </tr>\n",
       "  </tbody>\n",
       "</table>\n",
       "</div>"
      ],
      "text/plain": [
       "   Repetition  Total Contributions  Cumulative Average\n",
       "0           0          8739.705819         8739.705819\n",
       "1           1          9057.862658         8898.784238\n",
       "2           2          9064.632946         8954.067141\n",
       "3           3          8901.333082         8940.883626\n",
       "4           4          9006.964494         8954.099799"
      ]
     },
     "execution_count": 25,
     "metadata": {},
     "output_type": "execute_result"
    }
   ],
   "source": [
    "results_N_reps.head()"
   ]
  },
  {
   "cell_type": "code",
   "execution_count": 26,
   "id": "7fcb3458-11ad-4242-8398-8f35d4d654b0",
   "metadata": {},
   "outputs": [
    {
     "data": {
      "text/html": [
       "<div>\n",
       "<style scoped>\n",
       "    .dataframe tbody tr th:only-of-type {\n",
       "        vertical-align: middle;\n",
       "    }\n",
       "\n",
       "    .dataframe tbody tr th {\n",
       "        vertical-align: top;\n",
       "    }\n",
       "\n",
       "    .dataframe thead th {\n",
       "        text-align: right;\n",
       "    }\n",
       "</style>\n",
       "<table border=\"1\" class=\"dataframe\">\n",
       "  <thead>\n",
       "    <tr style=\"text-align: right;\">\n",
       "      <th></th>\n",
       "      <th>Repetition</th>\n",
       "      <th>Total Contributions</th>\n",
       "      <th>Cumulative Average</th>\n",
       "    </tr>\n",
       "  </thead>\n",
       "  <tbody>\n",
       "    <tr>\n",
       "      <th>295</th>\n",
       "      <td>295</td>\n",
       "      <td>8720.635402</td>\n",
       "      <td>8874.690415</td>\n",
       "    </tr>\n",
       "    <tr>\n",
       "      <th>296</th>\n",
       "      <td>296</td>\n",
       "      <td>8837.061979</td>\n",
       "      <td>8874.563720</td>\n",
       "    </tr>\n",
       "    <tr>\n",
       "      <th>297</th>\n",
       "      <td>297</td>\n",
       "      <td>8755.769996</td>\n",
       "      <td>8874.165083</td>\n",
       "    </tr>\n",
       "    <tr>\n",
       "      <th>298</th>\n",
       "      <td>298</td>\n",
       "      <td>8673.098926</td>\n",
       "      <td>8873.492621</td>\n",
       "    </tr>\n",
       "    <tr>\n",
       "      <th>299</th>\n",
       "      <td>299</td>\n",
       "      <td>9050.465396</td>\n",
       "      <td>8874.082530</td>\n",
       "    </tr>\n",
       "  </tbody>\n",
       "</table>\n",
       "</div>"
      ],
      "text/plain": [
       "     Repetition  Total Contributions  Cumulative Average\n",
       "295         295          8720.635402         8874.690415\n",
       "296         296          8837.061979         8874.563720\n",
       "297         297          8755.769996         8874.165083\n",
       "298         298          8673.098926         8873.492621\n",
       "299         299          9050.465396         8874.082530"
      ]
     },
     "execution_count": 26,
     "metadata": {},
     "output_type": "execute_result"
    }
   ],
   "source": [
    "results_N_reps.tail()"
   ]
  },
  {
   "cell_type": "markdown",
   "id": "bbc4517c-0bfc-4650-be39-de50cb5c3176",
   "metadata": {},
   "source": [
    "We can check the distribution of total contributions as follows:"
   ]
  },
  {
   "cell_type": "code",
   "execution_count": 27,
   "id": "9253fbca-01ba-42a6-bc33-b4f999e6f2b2",
   "metadata": {},
   "outputs": [
    {
     "data": {
      "text/plain": [
       "<seaborn.axisgrid.FacetGrid at 0x19568179490>"
      ]
     },
     "execution_count": 27,
     "metadata": {},
     "output_type": "execute_result"
    },
    {
     "data": {
      "image/png": "[encoded data removed]",
      "text/plain": [
       "<Figure size 500x500 with 1 Axes>"
      ]
     },
     "metadata": {},
     "output_type": "display_data"
    }
   ],
   "source": [
    "sns.displot(data=results_N_reps, x=\"Total Contributions\", kde=True, bins=11)"
   ]
  },
  {
   "cell_type": "markdown",
   "id": "0975040e-c3ac-49ec-86dd-ea4c2933f2c8",
   "metadata": {},
   "source": [
    "And we can check a plot of how the cumulative average converges over time as follows:"
   ]
  },
  {
   "cell_type": "code",
   "execution_count": 28,
   "id": "d51ed4b1-90c5-40c6-8ef3-cf397a1ef144",
   "metadata": {},
   "outputs": [
    {
     "data": {
      "text/plain": [
       "<Axes: xlabel='Repetition', ylabel='Total Contributions'>"
      ]
     },
     "execution_count": 28,
     "metadata": {},
     "output_type": "execute_result"
    },
    {
     "data": {
      "image/png": "[encoded data removed]",
      "text/plain": [
       "<Figure size 640x480 with 1 Axes>"
      ]
     },
     "metadata": {},
     "output_type": "display_data"
    }
   ],
   "source": [
    "sns.lineplot(data=results_N_reps, x=\"Repetition\", y='Total Contributions')\n",
    "sns.lineplot(data=results_N_reps, x=\"Repetition\", y='Cumulative Average')"
   ]
  },
  {
   "cell_type": "markdown",
   "id": "d8de1cab-809b-4379-be92-c5fb5534b341",
   "metadata": {},
   "source": [
    "Finally, we can numerically estimate the value of the specified policy for this sequential decision problem given by the formula:"
   ]
  },
  {
   "cell_type": "markdown",
   "id": "ce4d0a3c-9640-4bef-8a8c-da90514cc57f",
   "metadata": {},
   "source": [
    "$$ \\bar{F}^{\\pi}(\\theta) = \\frac{1}{N} \\sum_{n=1}^{N} \\sum_{t=0}^{T} C(S_t,X^{\\pi}(S_t\\mid\\theta),\\hat{D}^n_{t+1}), $$"
   ]
  },
  {
   "cell_type": "markdown",
   "id": "25be2f76-d448-46ab-9ca1-b2da5bc59222",
   "metadata": {},
   "source": [
    "as follows:"
   ]
  },
  {
   "cell_type": "code",
   "execution_count": 29,
   "id": "75598391-060a-43d8-bddf-6b509b09a852",
   "metadata": {},
   "outputs": [
    {
     "name": "stdout",
     "output_type": "stream",
     "text": [
      "8874.082530442962\n"
     ]
    }
   ],
   "source": [
    "F_est = results_N_reps['Total Contributions'].sum() / N\n",
    "print(F_est)"
   ]
  },
  {
   "cell_type": "markdown",
   "id": "b7b75cd2-5078-4394-9dce-481cd83958ee",
   "metadata": {},
   "source": [
    "Or since we already calculated it in the cumulative average column, we can just read it off from the last row as follows:"
   ]
  },
  {
   "cell_type": "code",
   "execution_count": 30,
   "id": "c7e89196-d35b-4183-9886-47b97833ce40",
   "metadata": {},
   "outputs": [
    {
     "name": "stdout",
     "output_type": "stream",
     "text": [
      "8874.082530442962\n"
     ]
    }
   ],
   "source": [
    "F_est = results_N_reps['Cumulative Average'].iloc()[-1]\n",
    "print(F_est)"
   ]
  },
  {
   "cell_type": "markdown",
   "id": "5eb847e5-03eb-4b28-b9b0-2718d3cd29a4",
   "metadata": {},
   "source": [
    "#### Search over values of $\\theta$"
   ]
  },
  {
   "cell_type": "markdown",
   "id": "f4b9ff76-c57a-4e2f-9558-80f776cd6eb0",
   "metadata": {},
   "source": [
    "Powell suggest a brute force trial and error search as a simple and practical way to start."
   ]
  },
  {
   "cell_type": "markdown",
   "id": "a94d34a2-39e6-4c08-8493-aab7b636a386",
   "metadata": {},
   "source": [
    "We want to search over pairs of candidate values $ \\theta = ( \\theta^{min}, \\theta^{max} )$ such that $\\theta^{min} \\lt \\theta^{max}$."
   ]
  },
  {
   "cell_type": "markdown",
   "id": "9059d085-338e-4f6c-a346-08d446d53ba5",
   "metadata": {},
   "source": [
    "If we start with an ordered array of values like this:"
   ]
  },
  {
   "cell_type": "code",
   "execution_count": 31,
   "id": "d9060cf3-99d9-4807-9bf8-35160e8161e6",
   "metadata": {},
   "outputs": [
    {
     "name": "stdout",
     "output_type": "stream",
     "text": [
      "[ 30  45  60  75  90 105 120 135 150]\n"
     ]
    }
   ],
   "source": [
    "vals = np.arange(start=30, stop=160, step=15)\n",
    "print(vals)"
   ]
  },
  {
   "cell_type": "markdown",
   "id": "3bd5c072-a7c2-4d9d-babd-1f0dce6a5571",
   "metadata": {},
   "source": [
    "We can generate all the pairs of canditate values that meet the above criterion by starting with the smallest and pairing it with each of the greater values in order, and moving to the next smallest and pairing it with each of the greater values, etc."
   ]
  },
  {
   "cell_type": "markdown",
   "id": "787b71b2-71f2-4d3c-9758-44ac089896d9",
   "metadata": {},
   "source": [
    "In general, if we have $v=$ `len(vals)`, there will be $ \\sum^{v-1}_{i=1} i $ pairs of values that satisfy the above criterion."
   ]
  },
  {
   "cell_type": "code",
   "execution_count": 32,
   "id": "a8a5cafe-7368-491b-b6b1-45e8c1d9e256",
   "metadata": {},
   "outputs": [
    {
     "name": "stdout",
     "output_type": "stream",
     "text": [
      "9\n"
     ]
    }
   ],
   "source": [
    "v = len(vals)\n",
    "print(v)"
   ]
  },
  {
   "cell_type": "code",
   "execution_count": 33,
   "id": "ba4a855b-a4a7-418f-95b5-3e441c950f85",
   "metadata": {},
   "outputs": [
    {
     "name": "stdout",
     "output_type": "stream",
     "text": [
      "36\n"
     ]
    }
   ],
   "source": [
    "num_pairs = np.arange(1, v).sum()\n",
    "print(num_pairs)"
   ]
  },
  {
   "cell_type": "code",
   "execution_count": 34,
   "id": "28d2fab4-6977-4b22-a1eb-62f20d6f1c4b",
   "metadata": {},
   "outputs": [
    {
     "data": {
      "text/plain": [
       "[{'theta_min': 30.0, 'theta_max': 45.0},\n",
       " {'theta_min': 30.0, 'theta_max': 60.0},\n",
       " {'theta_min': 30.0, 'theta_max': 75.0},\n",
       " {'theta_min': 30.0, 'theta_max': 90.0},\n",
       " {'theta_min': 30.0, 'theta_max': 105.0},\n",
       " {'theta_min': 30.0, 'theta_max': 120.0},\n",
       " {'theta_min': 30.0, 'theta_max': 135.0},\n",
       " {'theta_min': 30.0, 'theta_max': 150.0},\n",
       " {'theta_min': 45.0, 'theta_max': 60.0},\n",
       " {'theta_min': 45.0, 'theta_max': 75.0},\n",
       " {'theta_min': 45.0, 'theta_max': 90.0},\n",
       " {'theta_min': 45.0, 'theta_max': 105.0},\n",
       " {'theta_min': 45.0, 'theta_max': 120.0},\n",
       " {'theta_min': 45.0, 'theta_max': 135.0},\n",
       " {'theta_min': 45.0, 'theta_max': 150.0},\n",
       " {'theta_min': 60.0, 'theta_max': 75.0},\n",
       " {'theta_min': 60.0, 'theta_max': 90.0},\n",
       " {'theta_min': 60.0, 'theta_max': 105.0},\n",
       " {'theta_min': 60.0, 'theta_max': 120.0},\n",
       " {'theta_min': 60.0, 'theta_max': 135.0},\n",
       " {'theta_min': 60.0, 'theta_max': 150.0},\n",
       " {'theta_min': 75.0, 'theta_max': 90.0},\n",
       " {'theta_min': 75.0, 'theta_max': 105.0},\n",
       " {'theta_min': 75.0, 'theta_max': 120.0},\n",
       " {'theta_min': 75.0, 'theta_max': 135.0},\n",
       " {'theta_min': 75.0, 'theta_max': 150.0},\n",
       " {'theta_min': 90.0, 'theta_max': 105.0},\n",
       " {'theta_min': 90.0, 'theta_max': 120.0},\n",
       " {'theta_min': 90.0, 'theta_max': 135.0},\n",
       " {'theta_min': 90.0, 'theta_max': 150.0},\n",
       " {'theta_min': 105.0, 'theta_max': 120.0},\n",
       " {'theta_min': 105.0, 'theta_max': 135.0},\n",
       " {'theta_min': 105.0, 'theta_max': 150.0},\n",
       " {'theta_min': 120.0, 'theta_max': 135.0},\n",
       " {'theta_min': 120.0, 'theta_max': 150.0},\n",
       " {'theta_min': 135.0, 'theta_max': 150.0}]"
      ]
     },
     "execution_count": 34,
     "metadata": {},
     "output_type": "execute_result"
    }
   ],
   "source": [
    "candidate_theta_values = [None] * num_pairs\n",
    "k = 0\n",
    "for i in range(v):\n",
    "    for j in range(i + 1, v):\n",
    "        candidate_theta_values[k] = {\n",
    "            'theta_min': np.float32(vals[i]),\n",
    "            'theta_max': np.float32(vals[j])\n",
    "        }\n",
    "        k += 1\n",
    "candidate_theta_values"
   ]
  },
  {
   "cell_type": "markdown",
   "id": "ff398dc2-3442-4bfb-a12f-7e1926eae5ab",
   "metadata": {},
   "source": [
    "Now we can loop through this array of candidate values for $\\theta$, estimate the value of the defined policy for each like we did above, and record the results in a dataframe as follows:"
   ]
  },
  {
   "cell_type": "code",
   "execution_count": 35,
   "id": "d4e5828c-ac92-44b0-840a-879cc060e588",
   "metadata": {},
   "outputs": [],
   "source": [
    "def search_over_theta(p,c,Dhat,sigmahatD,S_0,num_days,candidate_theta_values,N):\n",
    "    num_candidates = len(candidate_theta_values)\n",
    "    theta_min = np.zeros(num_candidates, dtype=float)\n",
    "    theta_max = np.zeros(num_candidates, dtype=float)\n",
    "    F_est = np.zeros(num_candidates, dtype=float)\n",
    "    for i, candidate_theta in enumerate(candidate_theta_values):\n",
    "        results_N_reps = sim_N_reps(p,c,Dhat,sigmahatD,S_0,num_days,candidate_theta,N)\n",
    "        theta_min[i] = candidate_theta['theta_min']\n",
    "        theta_max[i] = candidate_theta['theta_max']\n",
    "        F_est[i] = results_N_reps['Cumulative Average'].iloc()[-1]\n",
    "\n",
    "    df = pd.DataFrame({'theta_min': theta_min, 'theta_max': theta_max, 'F_est': F_est,})\n",
    "    \n",
    "    return df"
   ]
  },
  {
   "cell_type": "code",
   "execution_count": 36,
   "id": "3256dc53-58d2-4a24-b571-976432467683",
   "metadata": {},
   "outputs": [
    {
     "data": {
      "text/html": [
       "<div>\n",
       "<style scoped>\n",
       "    .dataframe tbody tr th:only-of-type {\n",
       "        vertical-align: middle;\n",
       "    }\n",
       "\n",
       "    .dataframe tbody tr th {\n",
       "        vertical-align: top;\n",
       "    }\n",
       "\n",
       "    .dataframe thead th {\n",
       "        text-align: right;\n",
       "    }\n",
       "</style>\n",
       "<table border=\"1\" class=\"dataframe\">\n",
       "  <thead>\n",
       "    <tr style=\"text-align: right;\">\n",
       "      <th></th>\n",
       "      <th>theta_min</th>\n",
       "      <th>theta_max</th>\n",
       "      <th>F_est</th>\n",
       "    </tr>\n",
       "  </thead>\n",
       "  <tbody>\n",
       "    <tr>\n",
       "      <th>0</th>\n",
       "      <td>30.0</td>\n",
       "      <td>45.0</td>\n",
       "      <td>7470.939392</td>\n",
       "    </tr>\n",
       "    <tr>\n",
       "      <th>1</th>\n",
       "      <td>30.0</td>\n",
       "      <td>60.0</td>\n",
       "      <td>8474.428926</td>\n",
       "    </tr>\n",
       "    <tr>\n",
       "      <th>2</th>\n",
       "      <td>30.0</td>\n",
       "      <td>75.0</td>\n",
       "      <td>8396.101016</td>\n",
       "    </tr>\n",
       "    <tr>\n",
       "      <th>3</th>\n",
       "      <td>30.0</td>\n",
       "      <td>90.0</td>\n",
       "      <td>8304.707995</td>\n",
       "    </tr>\n",
       "    <tr>\n",
       "      <th>4</th>\n",
       "      <td>30.0</td>\n",
       "      <td>105.0</td>\n",
       "      <td>8481.238492</td>\n",
       "    </tr>\n",
       "    <tr>\n",
       "      <th>5</th>\n",
       "      <td>30.0</td>\n",
       "      <td>120.0</td>\n",
       "      <td>8611.990287</td>\n",
       "    </tr>\n",
       "    <tr>\n",
       "      <th>6</th>\n",
       "      <td>30.0</td>\n",
       "      <td>135.0</td>\n",
       "      <td>8601.305752</td>\n",
       "    </tr>\n",
       "    <tr>\n",
       "      <th>7</th>\n",
       "      <td>30.0</td>\n",
       "      <td>150.0</td>\n",
       "      <td>8621.084319</td>\n",
       "    </tr>\n",
       "    <tr>\n",
       "      <th>8</th>\n",
       "      <td>45.0</td>\n",
       "      <td>60.0</td>\n",
       "      <td>8666.316288</td>\n",
       "    </tr>\n",
       "    <tr>\n",
       "      <th>9</th>\n",
       "      <td>45.0</td>\n",
       "      <td>75.0</td>\n",
       "      <td>8935.836720</td>\n",
       "    </tr>\n",
       "    <tr>\n",
       "      <th>10</th>\n",
       "      <td>45.0</td>\n",
       "      <td>90.0</td>\n",
       "      <td>8833.380426</td>\n",
       "    </tr>\n",
       "    <tr>\n",
       "      <th>11</th>\n",
       "      <td>45.0</td>\n",
       "      <td>105.0</td>\n",
       "      <td>8813.711060</td>\n",
       "    </tr>\n",
       "    <tr>\n",
       "      <th>12</th>\n",
       "      <td>45.0</td>\n",
       "      <td>120.0</td>\n",
       "      <td>8884.183283</td>\n",
       "    </tr>\n",
       "    <tr>\n",
       "      <th>13</th>\n",
       "      <td>45.0</td>\n",
       "      <td>135.0</td>\n",
       "      <td>8896.132152</td>\n",
       "    </tr>\n",
       "    <tr>\n",
       "      <th>14</th>\n",
       "      <td>45.0</td>\n",
       "      <td>150.0</td>\n",
       "      <td>8880.284177</td>\n",
       "    </tr>\n",
       "    <tr>\n",
       "      <th>15</th>\n",
       "      <td>60.0</td>\n",
       "      <td>75.0</td>\n",
       "      <td>9013.995156</td>\n",
       "    </tr>\n",
       "    <tr>\n",
       "      <th>16</th>\n",
       "      <td>60.0</td>\n",
       "      <td>90.0</td>\n",
       "      <td>9011.359343</td>\n",
       "    </tr>\n",
       "    <tr>\n",
       "      <th>17</th>\n",
       "      <td>60.0</td>\n",
       "      <td>105.0</td>\n",
       "      <td>8998.788582</td>\n",
       "    </tr>\n",
       "    <tr>\n",
       "      <th>18</th>\n",
       "      <td>60.0</td>\n",
       "      <td>120.0</td>\n",
       "      <td>8984.191233</td>\n",
       "    </tr>\n",
       "    <tr>\n",
       "      <th>19</th>\n",
       "      <td>60.0</td>\n",
       "      <td>135.0</td>\n",
       "      <td>8986.854258</td>\n",
       "    </tr>\n",
       "    <tr>\n",
       "      <th>20</th>\n",
       "      <td>60.0</td>\n",
       "      <td>150.0</td>\n",
       "      <td>8970.178929</td>\n",
       "    </tr>\n",
       "    <tr>\n",
       "      <th>21</th>\n",
       "      <td>75.0</td>\n",
       "      <td>90.0</td>\n",
       "      <td>9029.647988</td>\n",
       "    </tr>\n",
       "    <tr>\n",
       "      <th>22</th>\n",
       "      <td>75.0</td>\n",
       "      <td>105.0</td>\n",
       "      <td>9017.390385</td>\n",
       "    </tr>\n",
       "    <tr>\n",
       "      <th>23</th>\n",
       "      <td>75.0</td>\n",
       "      <td>120.0</td>\n",
       "      <td>9014.392440</td>\n",
       "    </tr>\n",
       "    <tr>\n",
       "      <th>24</th>\n",
       "      <td>75.0</td>\n",
       "      <td>135.0</td>\n",
       "      <td>9005.718260</td>\n",
       "    </tr>\n",
       "    <tr>\n",
       "      <th>25</th>\n",
       "      <td>75.0</td>\n",
       "      <td>150.0</td>\n",
       "      <td>8988.690224</td>\n",
       "    </tr>\n",
       "    <tr>\n",
       "      <th>26</th>\n",
       "      <td>90.0</td>\n",
       "      <td>105.0</td>\n",
       "      <td>9009.583142</td>\n",
       "    </tr>\n",
       "    <tr>\n",
       "      <th>27</th>\n",
       "      <td>90.0</td>\n",
       "      <td>120.0</td>\n",
       "      <td>8979.984585</td>\n",
       "    </tr>\n",
       "    <tr>\n",
       "      <th>28</th>\n",
       "      <td>90.0</td>\n",
       "      <td>135.0</td>\n",
       "      <td>8980.003585</td>\n",
       "    </tr>\n",
       "    <tr>\n",
       "      <th>29</th>\n",
       "      <td>90.0</td>\n",
       "      <td>150.0</td>\n",
       "      <td>8981.779621</td>\n",
       "    </tr>\n",
       "    <tr>\n",
       "      <th>30</th>\n",
       "      <td>105.0</td>\n",
       "      <td>120.0</td>\n",
       "      <td>8995.409760</td>\n",
       "    </tr>\n",
       "    <tr>\n",
       "      <th>31</th>\n",
       "      <td>105.0</td>\n",
       "      <td>135.0</td>\n",
       "      <td>8981.510964</td>\n",
       "    </tr>\n",
       "    <tr>\n",
       "      <th>32</th>\n",
       "      <td>105.0</td>\n",
       "      <td>150.0</td>\n",
       "      <td>8966.304562</td>\n",
       "    </tr>\n",
       "    <tr>\n",
       "      <th>33</th>\n",
       "      <td>120.0</td>\n",
       "      <td>135.0</td>\n",
       "      <td>8966.717664</td>\n",
       "    </tr>\n",
       "    <tr>\n",
       "      <th>34</th>\n",
       "      <td>120.0</td>\n",
       "      <td>150.0</td>\n",
       "      <td>8949.865638</td>\n",
       "    </tr>\n",
       "    <tr>\n",
       "      <th>35</th>\n",
       "      <td>135.0</td>\n",
       "      <td>150.0</td>\n",
       "      <td>8938.146395</td>\n",
       "    </tr>\n",
       "  </tbody>\n",
       "</table>\n",
       "</div>"
      ],
      "text/plain": [
       "    theta_min  theta_max        F_est\n",
       "0        30.0       45.0  7470.939392\n",
       "1        30.0       60.0  8474.428926\n",
       "2        30.0       75.0  8396.101016\n",
       "3        30.0       90.0  8304.707995\n",
       "4        30.0      105.0  8481.238492\n",
       "5        30.0      120.0  8611.990287\n",
       "6        30.0      135.0  8601.305752\n",
       "7        30.0      150.0  8621.084319\n",
       "8        45.0       60.0  8666.316288\n",
       "9        45.0       75.0  8935.836720\n",
       "10       45.0       90.0  8833.380426\n",
       "11       45.0      105.0  8813.711060\n",
       "12       45.0      120.0  8884.183283\n",
       "13       45.0      135.0  8896.132152\n",
       "14       45.0      150.0  8880.284177\n",
       "15       60.0       75.0  9013.995156\n",
       "16       60.0       90.0  9011.359343\n",
       "17       60.0      105.0  8998.788582\n",
       "18       60.0      120.0  8984.191233\n",
       "19       60.0      135.0  8986.854258\n",
       "20       60.0      150.0  8970.178929\n",
       "21       75.0       90.0  9029.647988\n",
       "22       75.0      105.0  9017.390385\n",
       "23       75.0      120.0  9014.392440\n",
       "24       75.0      135.0  9005.718260\n",
       "25       75.0      150.0  8988.690224\n",
       "26       90.0      105.0  9009.583142\n",
       "27       90.0      120.0  8979.984585\n",
       "28       90.0      135.0  8980.003585\n",
       "29       90.0      150.0  8981.779621\n",
       "30      105.0      120.0  8995.409760\n",
       "31      105.0      135.0  8981.510964\n",
       "32      105.0      150.0  8966.304562\n",
       "33      120.0      135.0  8966.717664\n",
       "34      120.0      150.0  8949.865638\n",
       "35      135.0      150.0  8938.146395"
      ]
     },
     "execution_count": 36,
     "metadata": {},
     "output_type": "execute_result"
    }
   ],
   "source": [
    "results_search = search_over_theta(p,c,Dhat,sigmahatD,S_0,num_days,candidate_theta_values,N)\n",
    "results_search"
   ]
  },
  {
   "cell_type": "markdown",
   "id": "bf7ae98e-c358-4882-bcd8-157b6fe56718",
   "metadata": {},
   "source": [
    "We can find the candidate value for $\\theta$ with the highest estimated policy value as follows:"
   ]
  },
  {
   "cell_type": "code",
   "execution_count": 37,
   "id": "6e583b20-0135-435f-a072-f21437462315",
   "metadata": {},
   "outputs": [
    {
     "data": {
      "text/plain": [
       "theta_min      75.000000\n",
       "theta_max      90.000000\n",
       "F_est        9029.647988\n",
       "Name: 21, dtype: float64"
      ]
     },
     "execution_count": 37,
     "metadata": {},
     "output_type": "execute_result"
    }
   ],
   "source": [
    "idx_max = results_search.F_est.idxmax()\n",
    "results_search.iloc[idx_max]"
   ]
  },
  {
   "cell_type": "markdown",
   "id": "47b825fc-4356-4ab6-8387-608127c80a22",
   "metadata": {},
   "source": [
    "Or if we wanted to see the top five best candidate values for $\\theta$, we could inspect the head of the sorted dataframe like this:"
   ]
  },
  {
   "cell_type": "code",
   "execution_count": 38,
   "id": "ce593b3b-38c1-4b65-a37e-e48f307e030d",
   "metadata": {},
   "outputs": [
    {
     "data": {
      "text/html": [
       "<div>\n",
       "<style scoped>\n",
       "    .dataframe tbody tr th:only-of-type {\n",
       "        vertical-align: middle;\n",
       "    }\n",
       "\n",
       "    .dataframe tbody tr th {\n",
       "        vertical-align: top;\n",
       "    }\n",
       "\n",
       "    .dataframe thead th {\n",
       "        text-align: right;\n",
       "    }\n",
       "</style>\n",
       "<table border=\"1\" class=\"dataframe\">\n",
       "  <thead>\n",
       "    <tr style=\"text-align: right;\">\n",
       "      <th></th>\n",
       "      <th>theta_min</th>\n",
       "      <th>theta_max</th>\n",
       "      <th>F_est</th>\n",
       "    </tr>\n",
       "  </thead>\n",
       "  <tbody>\n",
       "    <tr>\n",
       "      <th>21</th>\n",
       "      <td>75.0</td>\n",
       "      <td>90.0</td>\n",
       "      <td>9029.647988</td>\n",
       "    </tr>\n",
       "    <tr>\n",
       "      <th>22</th>\n",
       "      <td>75.0</td>\n",
       "      <td>105.0</td>\n",
       "      <td>9017.390385</td>\n",
       "    </tr>\n",
       "    <tr>\n",
       "      <th>23</th>\n",
       "      <td>75.0</td>\n",
       "      <td>120.0</td>\n",
       "      <td>9014.392440</td>\n",
       "    </tr>\n",
       "    <tr>\n",
       "      <th>15</th>\n",
       "      <td>60.0</td>\n",
       "      <td>75.0</td>\n",
       "      <td>9013.995156</td>\n",
       "    </tr>\n",
       "    <tr>\n",
       "      <th>16</th>\n",
       "      <td>60.0</td>\n",
       "      <td>90.0</td>\n",
       "      <td>9011.359343</td>\n",
       "    </tr>\n",
       "  </tbody>\n",
       "</table>\n",
       "</div>"
      ],
      "text/plain": [
       "    theta_min  theta_max        F_est\n",
       "21       75.0       90.0  9029.647988\n",
       "22       75.0      105.0  9017.390385\n",
       "23       75.0      120.0  9014.392440\n",
       "15       60.0       75.0  9013.995156\n",
       "16       60.0       90.0  9011.359343"
      ]
     },
     "execution_count": 38,
     "metadata": {},
     "output_type": "execute_result"
    }
   ],
   "source": [
    "results_search.sort_values('F_est', ascending=False).head()"
   ]
  },
  {
   "cell_type": "markdown",
   "id": "6dfbe10c-00f9-4ece-8f1c-e7422f446cc5",
   "metadata": {},
   "source": [
    "Given the wide range of $\\theta$ values that give very similar values for $\\bar{F}^{\\pi}(\\theta)$, and given that this is just a toy model for illustrating the basic ideas of modeling sequential decision problems, we can consider our job done."
   ]
  }
 ],
 "metadata": {
  "kernelspec": {
   "display_name": "Python 3 (ipykernel)",
   "language": "python",
   "name": "python3"
  },
  "language_info": {
   "codemirror_mode": {
    "name": "ipython",
    "version": 3
   },
   "file_extension": ".py",
   "mimetype": "text/x-python",
   "name": "python",
   "nbconvert_exporter": "python",
   "pygments_lexer": "ipython3",
   "version": "3.12.0"
  }
 },
 "nbformat": 4,
 "nbformat_minor": 5
}
