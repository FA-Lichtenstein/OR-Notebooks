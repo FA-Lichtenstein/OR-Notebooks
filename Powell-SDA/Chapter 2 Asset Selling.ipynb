{
 "cells": [
  {
   "cell_type": "markdown",
   "id": "6786521f-d5e4-442d-a310-7183cec6b663",
   "metadata": {},
   "source": [
    "# Asset Selling"
   ]
  },
  {
   "cell_type": "markdown",
   "id": "ba890290-8c26-42e5-880f-4196642ff768",
   "metadata": {},
   "source": [
    "This notebook contains study notes based on the second chapter of Warren Powell's (2022) book [*Sequential Decision Analytics: Modeling with Python*](https://castle.princeton.edu/sdamodeling/).\n",
    "\n",
    "Here's a link to relevant talk by Powell: [A Universal Framework for Sequential Decision Analytics](https://youtu.be/MGOSTRwQpZQ?si=mSt_adDKsTeHQaUo).\n",
    "\n",
    "And here's a link to the official GitHub page that accompanies the book: [stochastic-optimization](https://github.com/wbpowell328/stochastic-optimization)."
   ]
  },
  {
   "cell_type": "code",
   "execution_count": null,
   "id": "e77bea9a-6f7b-4866-91ae-32fcf91ce68d",
   "metadata": {},
   "outputs": [],
   "source": []
  }
 ],
 "metadata": {
  "kernelspec": {
   "display_name": "Python 3 (ipykernel)",
   "language": "python",
   "name": "python3"
  },
  "language_info": {
   "codemirror_mode": {
    "name": "ipython",
    "version": 3
   },
   "file_extension": ".py",
   "mimetype": "text/x-python",
   "name": "python",
   "nbconvert_exporter": "python",
   "pygments_lexer": "ipython3",
   "version": "3.12.0"
  }
 },
 "nbformat": 4,
 "nbformat_minor": 5
}
