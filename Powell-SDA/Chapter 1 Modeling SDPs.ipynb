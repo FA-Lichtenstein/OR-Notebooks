{
 "cells": [
  {
   "cell_type": "markdown",
   "id": "dbe60a03-6fae-4c8d-97ea-f52bb716d4e5",
   "metadata": {},
   "source": [
    "# Modeling Sequential Decision Problems"
   ]
  },
  {
   "cell_type": "markdown",
   "id": "ac63a8f8-fac9-4304-9c4d-fd20a7c02ce7",
   "metadata": {},
   "source": [
    "This notebook contains study notes based on chapter one of Warren Powell's (2022) book [*Sequential Decision Analytics: Modeling with Python*](https://castle.princeton.edu/sdamodeling/).\n",
    "\n",
    "Here's a link to relevant talk by Powell: [A Universal Framework for Sequential Decision Analytics](https://youtu.be/MGOSTRwQpZQ?si=mSt_adDKsTeHQaUo).\n",
    "\n",
    "And here's a link to the official GitHub page that accompanies the book: [stochastic-optimization](https://github.com/wbpowell328/stochastic-optimization)."
   ]
  },
  {
   "cell_type": "markdown",
   "id": "99e72f1e-d6f6-4d9a-876c-8459aa94a8a9",
   "metadata": {},
   "source": [
    "## Compact description"
   ]
  },
  {
   "cell_type": "markdown",
   "id": "07b11666-5a59-4213-a6a6-cbaa656829ef",
   "metadata": {},
   "source": [
    "Sequential decision problems are processes of the form:$$ decision, information, decision, information, decision \\ldots $$"
   ]
  },
  {
   "cell_type": "markdown",
   "id": "b515c122-b650-4d04-8c44-500e565e6a80",
   "metadata": {},
   "source": [
    "Any such problem can be modeled as $$ ( S_0, x_0, W_1, S_1, x_1, W_2, \\ldots , S_t, x_t, W_{t+1}, \\ldots , S_T ), $$"
   ]
  },
  {
   "cell_type": "markdown",
   "id": "4998f20d-04b4-4ec5-8b88-1ac9a9959a85",
   "metadata": {},
   "source": [
    "where:\n",
    "* $S_0$ is the *initial state variable* that captures:\n",
    "    1. deterministic parameter values that never change\n",
    "    2. initial values of quantities or parameters that do change\n",
    "    3. beliefs about quantities or parameters that we don't know perfectly\n",
    "* $S_t$ are *dynamic state variables* that captures all the information about the state of the system at time $t$ we need to compute the next state. There are three kinds:\n",
    "    1. Physical state $R_t$\n",
    "    2. Information state $I_t$\n",
    "    3. Belief state $B_t$\n",
    "* $x_t$ are *decision variables* that capture elements that controlled.\n",
    "* $W_t$ are *exogenous information* that arrives after a decision $x_t$."
   ]
  },
  {
   "cell_type": "markdown",
   "id": "fe617c4c-93e5-422f-b3ae-358a03e760ad",
   "metadata": {},
   "source": [
    "Sometimes it's more natural to index decisions using a counter $n$. Then the process is$$ ( S^0, x^0, W^1, S^1, x^1, W^2, \\ldots , S^n, x^n, W^{n+1}, \\ldots , S^N ). $$And sometimes both index and time are captured, as in $(S^n_t, x^n_t,W^n_t)$."
   ]
  },
  {
   "cell_type": "markdown",
   "id": "496f264c-e5fa-465d-90ed-5a92b5978a62",
   "metadata": {},
   "source": [
    "States are updated by a *transition function* $S^M$ such that$$ S_{t+1} = S^M(S_t,x_t,W_{t+1}). $$"
   ]
  },
  {
   "cell_type": "markdown",
   "id": "0d04465d-fa99-4682-a0fa-b1697b37a3f9",
   "metadata": {},
   "source": [
    "Decision variables $x_t$ are determined by a *policy* function denoted $X^{\\pi}(S_t)$."
   ]
  },
  {
   "cell_type": "markdown",
   "id": "a8e7dfec-eccc-4ae2-80ad-d2e01d671886",
   "metadata": {},
   "source": [
    "Decisions incur a *cost* or *contribution* $$C(S_t,x_t)=C(S_t,X^{\\pi}(S_t)).$$"
   ]
  },
  {
   "cell_type": "markdown",
   "id": "389a48cd-9d69-4eb6-811c-a99d6607b1fb",
   "metadata": {},
   "source": [
    "The objective is to find the best policy to optimize some metric. The most common way of writing the *objective function* is\n",
    "$$ \\max_{\\pi} \\mathbb{E} \\left \\{ \\sum^T_{t=0} C ( S_t,X^{\\pi}(S_t) ) \\mid S_0 \\right \\}. $$"
   ]
  },
  {
   "cell_type": "markdown",
   "id": "aa2df445-066a-4351-9da2-2bf42570af8e",
   "metadata": {},
   "source": [
    "## 6-Step Modeling Process "
   ]
  },
  {
   "cell_type": "markdown",
   "id": "176493ba-ef1f-4e9d-895c-fae2a4305eef",
   "metadata": {},
   "source": [
    "Powell describes the modeling process in six steps:\n",
    "\n",
    "1. Write a big picture **narrative** description of the process in plain English\n",
    "2. Write down the **core elements** of the problem:\n",
    "    * The metrics being impacted\n",
    "    * The decisions being made\n",
    "    * The sources of uncertainty\n",
    "3. Write down a **mathematical model** including all the elements in the compact description, including\n",
    "    * Initial state variable $S_0$\n",
    "    * Dynamic state variables $S_t$\n",
    "    * Decision variables $x_t$\n",
    "    * Exogenous information variables $W_{t+1}$\n",
    "    * The transition function $S^M(S_t,x_t,W_{t+1})$\n",
    "    * The cost / contribution function $C(S_t, x_t)$\n",
    "    * The objective function\n",
    "4. Write down the **uncertainty model**\n",
    "    * The initial state $S_0$ might specify distributions of uncertain state transition parameters\n",
    "    * Specify the exogenous information process through one of three ways:\n",
    "        1. Create a mathematical model\n",
    "        2. Use observations of past events\n",
    "        3. Run field experiments\n",
    "5. Design **policy functions** using one of two core strategies\n",
    "    1. Define a discrete set of functions to search over\n",
    "    2. Define a parametric family of functions and an estimation of of the expected objective value of different parameter values\n",
    "6. Find the best policy by **evaluating policies** through simulation or experimentation"
   ]
  },
  {
   "cell_type": "markdown",
   "id": "545036f1-adb9-46ad-87be-eabb2e9d870f",
   "metadata": {},
   "source": [
    "## A Simple Example: Inventory Problem "
   ]
  },
  {
   "cell_type": "markdown",
   "id": "b6121c02-f5da-4879-aadc-e9c23f50022e",
   "metadata": {},
   "source": [
    "Powell provides the following simple example to illustrate the above ideas."
   ]
  },
  {
   "cell_type": "markdown",
   "id": "4db426b0-04f5-45d2-87b7-1a668fb6999b",
   "metadata": {},
   "source": [
    "### 1. Narative"
   ]
  },
  {
   "cell_type": "markdown",
   "id": "2d6ff543-e9ee-415b-98c0-22c570dadc37",
   "metadata": {},
   "source": [
    "A pizza restaurant has to decide how many pounds of sausage to order from its food distributor. The restaurant has to make the decision at the end of day $t$, communicate the order which then arrives the following morning to meet tomorrow’s orders. If there is sausage left over, it can be held to the following day. The cost of the sausage, and the price that it will be sold for the next day, is known in advance, but the demand is not."
   ]
  },
  {
   "cell_type": "markdown",
   "id": "d15c5251-3e1d-4999-8066-e571cc8995ed",
   "metadata": {},
   "source": [
    "### 2. Core Elements"
   ]
  },
  {
   "cell_type": "markdown",
   "id": "07ec64a3-208d-47bd-a8a6-86cfd0c5ea2c",
   "metadata": {},
   "source": [
    "* **Metrics** - We want to maximize profits given by the sales of sausage minus the cost of purchasing the sausage.\n",
    "* **Decisions** - We have to decide how much to order at the end of one day. Orders arrive at the beginning of the next day.\n",
    "* **Sources of Uncertainty** - The only source of uncertainty in this example is the demand for sausage the next day. "
   ]
  },
  {
   "cell_type": "markdown",
   "id": "efc3605a-f582-403a-9565-4399a4ba5e32",
   "metadata": {},
   "source": [
    "### 3. Mathematical Model"
   ]
  },
  {
   "cell_type": "markdown",
   "id": "bb95cdf8-a81f-43fd-9b8f-8e723efe55ca",
   "metadata": {},
   "source": [
    "#### State variables"
   ]
  },
  {
   "cell_type": "markdown",
   "id": "4e45195c-b0cf-4ecc-8d0d-fb04920fef10",
   "metadata": {},
   "source": [
    "The *initial state variable* is"
   ]
  },
  {
   "cell_type": "markdown",
   "id": "b35097ca-5f6c-435b-b6ff-f9fcc77dcce1",
   "metadata": {},
   "source": [
    "$$S_0 = (p,c,\\bar{D},\\bar{\\sigma}^D),$$"
   ]
  },
  {
   "cell_type": "markdown",
   "id": "c4c4b97a-789e-4bd2-825e-dc178b73e0bc",
   "metadata": {},
   "source": [
    "where $p$ is the price we charge for sausage, $c$ is our purchase cost of sausage, and $(\\bar{D},\\bar{\\sigma}^D)$ are the mean and standard deviation of the demand, and $R_0^{\\text{inv}}$ is the initial inventory level of sausage."
   ]
  },
  {
   "cell_type": "markdown",
   "id": "ca4b48d3-ea4c-41ea-bf46-a419c324ca88",
   "metadata": {},
   "source": [
    "The *dynamic state variable* is"
   ]
  },
  {
   "cell_type": "markdown",
   "id": "2584f40d-d676-4a39-af90-d94881cec030",
   "metadata": {},
   "source": [
    "$$S_t=R_t^{\\text{inv}},$$"
   ]
  },
  {
   "cell_type": "markdown",
   "id": "841efeed-1af0-45e7-8c76-c89ce8041d29",
   "metadata": {},
   "source": [
    "where $R_t^{\\text{inv}}$ is the amount of sausage in inventory at time $t$."
   ]
  },
  {
   "cell_type": "markdown",
   "id": "4177253d-f54c-43ff-be35-f49369acd665",
   "metadata": {},
   "source": [
    "#### Decision variable"
   ]
  },
  {
   "cell_type": "markdown",
   "id": "ff85d724-d8e7-41d5-89c4-d2567526208f",
   "metadata": {},
   "source": [
    "The decision variable $x_t$ is how much sausage we order at time $t$."
   ]
  },
  {
   "cell_type": "markdown",
   "id": "7b567d96-9cd3-483c-bf5f-3439aa22d602",
   "metadata": {},
   "source": [
    "#### Exogenous information"
   ]
  },
  {
   "cell_type": "markdown",
   "id": "e6b3ee97-f5f6-4058-b133-22b054c594da",
   "metadata": {},
   "source": [
    "The exogenous information is the random demand for sauage, denoted"
   ]
  },
  {
   "cell_type": "markdown",
   "id": "0f677ed3-16d2-4bf2-bcc6-dc750d0bb0be",
   "metadata": {},
   "source": [
    "$$W_{t+1}=\\hat{D}_{t+1}.$$"
   ]
  },
  {
   "cell_type": "markdown",
   "id": "d5f79458-64a9-4e9d-bc93-9a7ec633ac2d",
   "metadata": {},
   "source": [
    "#### Transition Function"
   ]
  },
  {
   "cell_type": "markdown",
   "id": "189ed57c-7f8c-49bb-ad25-a2520ac333f9",
   "metadata": {},
   "source": [
    "The inventory left at the end of the day $t+1$, will be the inventory left at the end of day $t$, plus how much we order on day $t$, minus the random demand on day $t+1$, or zero if we run out of sausage before the full demand is met. We can write that as follows:"
   ]
  },
  {
   "cell_type": "markdown",
   "id": "1e094355-c470-4fff-9e19-2da63f1b42b5",
   "metadata": {},
   "source": [
    "$$ R_{t+1}^{\\text{inv}} =\\max{\\left\\{ 0, R_t^{\\text{inv}} +x_t + \\hat{D}_{t+1} \\right\\}}. $$"
   ]
  },
  {
   "cell_type": "markdown",
   "id": "3dd0f6db-2820-4fba-8a64-bc91bac44c58",
   "metadata": {},
   "source": [
    "#### Contribution Function"
   ]
  },
  {
   "cell_type": "markdown",
   "id": "624edaa9-19a1-4ded-ac1e-0328eb6571a7",
   "metadata": {},
   "source": [
    "The contribution to profit for buying $x_t$ sausage on day $t$ is the selling price $p$ of sausage multiplied by how much was sold, which is the least of the full inventory $R_t^{\\text{inv}} +x_t$ at day $t+1$ or the random demand $\\hat{D}_{t+1}$ on day $t+1$, minus the cost of sausage $c$ multiplied by how much was bought $x_t$. The following formula will compute the contribution:"
   ]
  },
  {
   "cell_type": "markdown",
   "id": "06653f2e-dc46-486e-8c17-b30afcbbabdc",
   "metadata": {},
   "source": [
    "$$ C(S_t,x_t,\\hat{D}_{t+1}) = p \\min \\left \\{R^{\\text{inv}}_t+x_t,\\hat{D}_{t+1} \\right \\} -cx_t. $$"
   ]
  },
  {
   "cell_type": "markdown",
   "id": "fe3e815e-19ac-4ef8-a6cb-da13c3e452d2",
   "metadata": {},
   "source": [
    "#### Objective Function"
   ]
  },
  {
   "cell_type": "markdown",
   "id": "a03a059b-3186-4cc8-878b-6107a257adf6",
   "metadata": {},
   "source": [
    "The objective is to find the policy $\\pi$ that maximize sum total of profits over all time periods, averaged over the random demand process $\\hat{D}_1,\\ldots,\\hat{D}_T$."
   ]
  },
  {
   "cell_type": "markdown",
   "id": "98241be1-2e91-4b96-bd28-b8772d5b80b0",
   "metadata": {},
   "source": [
    "$$ \\max_{\\pi} F^{\\pi} = \\max_{\\pi} \\mathbb{E} \\left \\{ \\sum_{t=0}^T C(S_t,X^{\\pi}(S_t),\\hat{D}_{t+1}) \\mid S_0 \\right \\}. $$"
   ]
  },
  {
   "cell_type": "markdown",
   "id": "00ebdaba-9fdf-4cb2-bd2f-fadd24610198",
   "metadata": {},
   "source": [
    "### 4. Uncertainty Model"
   ]
  },
  {
   "cell_type": "markdown",
   "id": "efc832d2-209b-4f3b-b44b-e623922c9053",
   "metadata": {},
   "source": [
    "A simple mathematical model for the demand process is to assume demand is normally distributed with some mean $\\bar{D}$ and standard deviation $\\bar{\\sigma}^D$. If these are known, demand can be written as"
   ]
  },
  {
   "cell_type": "markdown",
   "id": "e69cf4fa-6dbd-4845-b191-3dedcce5bbf1",
   "metadata": {},
   "source": [
    "$$ \\hat{D}_{t+1} \\sim N (\\bar{D}, (\\bar{\\sigma}^D)^2 ). $$"
   ]
  },
  {
   "cell_type": "markdown",
   "id": "fb08ba18-1b69-40d1-b2dc-df9dbcf016d6",
   "metadata": {},
   "source": [
    "### 5. Policy"
   ]
  },
  {
   "cell_type": "markdown",
   "id": "4e77463e-d556-40b6-8ea0-29e0460c40cd",
   "metadata": {},
   "source": [
    "A common policy for inventory problems is called \"order-up-to\" which can be written as"
   ]
  },
  {
   "cell_type": "markdown",
   "id": "ee71901d-8cab-43c5-8611-0a9cfd86acf6",
   "metadata": {},
   "source": [
    "$$ \n",
    "X^{\\pi}(S_t \\mid \\theta)=\\bigg\\{\\begin{array}{cl}\n",
    "\\theta^{max} - R_t & \\text{if } R_t \\lt \\theta^{min}, \\\\\n",
    "0 & \\text{otherwise} ,\n",
    "\\end{array}\n",
    "$$"
   ]
  },
  {
   "cell_type": "markdown",
   "id": "3003d85c-78b1-4cae-8afa-032dac610e53",
   "metadata": {},
   "source": [
    "where $\\theta=(\\theta^{min},\\theta^{max})$ is a set of tunable parameters that define a lower and upper limit for inventory levels such that inventories are restored up to the upper limit when they drop below the lower limit."
   ]
  },
  {
   "cell_type": "markdown",
   "id": "499f6bc4-4fc1-43af-966d-0fdf79f79851",
   "metadata": {},
   "source": [
    "### 6. Evaluation"
   ]
  },
  {
   "cell_type": "markdown",
   "id": "38c59ecd-12a9-4b38-9822-9f2aa53c6669",
   "metadata": {},
   "source": [
    "Even though there is no analytical way to compute the value of the objective function exactly, we can resort to numerical estimation using simulation. We can simulate $N$ sample paths of random demands $\\hat{D}^n_1,\\ldots,\\hat{D}^n_T$ and estimate the expected profits by averaging over these samples like this:"
   ]
  },
  {
   "cell_type": "markdown",
   "id": "6f5c2dab-2d56-4092-b1bf-fa16bde6cd45",
   "metadata": {},
   "source": [
    "$$ \\bar{F}^{\\pi}(\\theta) = \\frac{1}{N} \\sum_{n=1}^{N} \\sum_{t=0}^{T} C(S_t,X^{\\pi}(S_t\\mid\\theta),\\hat{D}^n_{t+1}). $$"
   ]
  },
  {
   "cell_type": "markdown",
   "id": "94d73978-605c-43e9-bca6-13cf6f1eb7f7",
   "metadata": {},
   "source": [
    "Then we're left to find the value of $\\theta=(\\theta^{min},\\theta^{max})$ that gives the highest average profit as computed above."
   ]
  },
  {
   "cell_type": "markdown",
   "id": "5f64bc47-6936-404d-a2ca-afbae7dff2cb",
   "metadata": {},
   "source": [
    "### Python Implementation"
   ]
  },
  {
   "cell_type": "markdown",
   "id": "ee8ce722-04cc-4799-aaab-8af00eeb8878",
   "metadata": {},
   "source": [
    "We're going to use a couple of common libraries:"
   ]
  },
  {
   "cell_type": "code",
   "execution_count": 1,
   "id": "6a6c8b6d-2d0e-4300-bfd4-cbc5c9f78fd2",
   "metadata": {},
   "outputs": [],
   "source": [
    "import numpy as np\n",
    "import pandas as pd\n",
    "import seaborn as sns\n",
    "sns.set(color_codes=True)"
   ]
  },
  {
   "cell_type": "markdown",
   "id": "b8c17a5c-b53e-4511-a86f-2210e02a077f",
   "metadata": {},
   "source": [
    "We define a function to define values of $S_0$."
   ]
  },
  {
   "cell_type": "code",
   "execution_count": 2,
   "id": "4606867f-3113-4009-be55-61d4e0f5bb33",
   "metadata": {},
   "outputs": [],
   "source": [
    "def init_S0(p,c,Dhat,sigmahatD):\n",
    "    S0 = {\n",
    "        'p': p,\n",
    "        'c': c,\n",
    "        'Dhat': Dhat,\n",
    "        'sigmahat^D': sigmahatD\n",
    "    }\n",
    "    return S0"
   ]
  },
  {
   "cell_type": "markdown",
   "id": "8d4d56b1-883a-4ff6-82bf-cf4faeda848c",
   "metadata": {},
   "source": [
    "For example, we can arbitrarily let"
   ]
  },
  {
   "cell_type": "markdown",
   "id": "7f0a3051-dbe9-40ab-971a-63d5508b2848",
   "metadata": {},
   "source": [
    "$$S_0 = (p,c,\\bar{D},\\bar{\\sigma}^D) = (2,1.5,50,10).$$"
   ]
  },
  {
   "cell_type": "code",
   "execution_count": 3,
   "id": "6fbe71a3-d921-4dee-8f85-1f7d9a3b1088",
   "metadata": {},
   "outputs": [
    {
     "name": "stdout",
     "output_type": "stream",
     "text": [
      "{'p': 2, 'c': 1.5, 'Dhat': 50, 'sigmahat^D': 15}\n"
     ]
    }
   ],
   "source": [
    "S0 = init_S0(2,1.5,50,15)\n",
    "print(S0)"
   ]
  },
  {
   "cell_type": "markdown",
   "id": "21050aa5-8221-41bf-b639-504a37e0b3cc",
   "metadata": {},
   "source": [
    "We define the transition function as follows:"
   ]
  },
  {
   "cell_type": "code",
   "execution_count": 4,
   "id": "9973c211-83b1-4cd7-91e4-2ce981783a57",
   "metadata": {},
   "outputs": [],
   "source": [
    "def SM(S_t, x_t, W_tp1):\n",
    "    return np.max([0, S_t + x_t - W_tp1])"
   ]
  },
  {
   "cell_type": "markdown",
   "id": "c9e15803-742d-4697-ba05-189b264f34b1",
   "metadata": {},
   "source": [
    "For example:"
   ]
  },
  {
   "cell_type": "code",
   "execution_count": 5,
   "id": "9966ec97-ad81-4236-a3dc-c76cedd3295a",
   "metadata": {},
   "outputs": [
    {
     "data": {
      "text/plain": [
       "30"
      ]
     },
     "execution_count": 5,
     "metadata": {},
     "output_type": "execute_result"
    }
   ],
   "source": [
    "SM(40, 40, 50)"
   ]
  },
  {
   "cell_type": "code",
   "execution_count": 6,
   "id": "2dd36709-6393-448d-9c2f-02d1cb0db6db",
   "metadata": {},
   "outputs": [
    {
     "data": {
      "text/plain": [
       "0"
      ]
     },
     "execution_count": 6,
     "metadata": {},
     "output_type": "execute_result"
    }
   ],
   "source": [
    "SM(10,10, 50)"
   ]
  },
  {
   "cell_type": "markdown",
   "id": "7f0d8307-9892-43b5-905b-e27007ad43b4",
   "metadata": {},
   "source": [
    "We define the contribution function as follows:"
   ]
  },
  {
   "cell_type": "code",
   "execution_count": 7,
   "id": "664d74c7-84b9-45cc-a3cf-b0b0af927f06",
   "metadata": {},
   "outputs": [],
   "source": [
    "def C(S_t, x_t, W_tp1, S0):\n",
    "    p = S0['p']\n",
    "    c = S0['c']\n",
    "    return p*np.min([S_t + x_t, W_tp1]) - c*x_t"
   ]
  },
  {
   "cell_type": "markdown",
   "id": "b1054a3e-3fc4-4fdb-89e1-8939ea14e4c1",
   "metadata": {},
   "source": [
    "For example:"
   ]
  },
  {
   "cell_type": "code",
   "execution_count": 8,
   "id": "f9d4b4a6-6a00-4a5e-859a-042eaa2ca574",
   "metadata": {},
   "outputs": [
    {
     "data": {
      "text/plain": [
       "25.0"
      ]
     },
     "execution_count": 8,
     "metadata": {},
     "output_type": "execute_result"
    }
   ],
   "source": [
    "C(10,10,50,S0)"
   ]
  },
  {
   "cell_type": "code",
   "execution_count": 9,
   "id": "5dd89f62-996e-4e8d-bc4d-66bda6e8ea70",
   "metadata": {},
   "outputs": [
    {
     "data": {
      "text/plain": [
       "100.0"
      ]
     },
     "execution_count": 9,
     "metadata": {},
     "output_type": "execute_result"
    }
   ],
   "source": [
    "C(100,0,50,S0)"
   ]
  },
  {
   "cell_type": "markdown",
   "id": "3ca2e4bf-7be9-4ed1-8778-f7baf9670c45",
   "metadata": {},
   "source": [
    "We define the function that draws one random sample from a normal distribution with mean $\\hat{D}$ and standard deviation $\\hat{\\sigma}^D$ as follows:"
   ]
  },
  {
   "cell_type": "code",
   "execution_count": 10,
   "id": "624acf0f-5ffe-4360-9eda-fb976ad4584e",
   "metadata": {},
   "outputs": [],
   "source": [
    "def WM(S0):\n",
    "    return np.random.normal(S0['Dhat'], S0['sigmahat^D'])"
   ]
  },
  {
   "cell_type": "markdown",
   "id": "898de65d-d9a5-40fd-8829-6d6cd818c448",
   "metadata": {},
   "source": [
    "For example:"
   ]
  },
  {
   "cell_type": "code",
   "execution_count": 11,
   "id": "ffe98b62-f09a-47ff-92f9-3825483044c7",
   "metadata": {},
   "outputs": [
    {
     "data": {
      "text/plain": [
       "32.407520714855266"
      ]
     },
     "execution_count": 11,
     "metadata": {},
     "output_type": "execute_result"
    }
   ],
   "source": [
    "WM(S0)"
   ]
  },
  {
   "cell_type": "code",
   "execution_count": 12,
   "id": "5e77a11e-a743-49f9-abbe-7968a7541fa3",
   "metadata": {},
   "outputs": [
    {
     "data": {
      "text/plain": [
       "18.530286924461684"
      ]
     },
     "execution_count": 12,
     "metadata": {},
     "output_type": "execute_result"
    }
   ],
   "source": [
    "WM(S0)"
   ]
  },
  {
   "cell_type": "markdown",
   "id": "9a6bba51-f6ae-4056-a19d-49d440e45ce4",
   "metadata": {},
   "source": [
    "We define the order-up-to policy function like this:"
   ]
  },
  {
   "cell_type": "code",
   "execution_count": 13,
   "id": "00333465-be59-4145-b311-11af64bff19b",
   "metadata": {},
   "outputs": [],
   "source": [
    "def Xpi(S_t, theta):\n",
    "    theta_min = theta['theta_min']\n",
    "    theta_max = theta['theta_max']\n",
    "    if S_t < theta_min:\n",
    "        return theta_max - S_t\n",
    "    else:\n",
    "        return 0"
   ]
  },
  {
   "cell_type": "markdown",
   "id": "213eb1b6-8b27-4eec-bac1-760a01eb5284",
   "metadata": {},
   "source": [
    "For example:"
   ]
  },
  {
   "cell_type": "code",
   "execution_count": 14,
   "id": "72e55c8f-eb1e-4333-b381-2daea46606b5",
   "metadata": {},
   "outputs": [],
   "source": [
    "theta = {\n",
    "    'theta_min': 50,\n",
    "    'theta_max': 100\n",
    "}"
   ]
  },
  {
   "cell_type": "code",
   "execution_count": 15,
   "id": "1061864c-0bf3-4428-9d76-7c18b35dcd32",
   "metadata": {},
   "outputs": [
    {
     "data": {
      "text/plain": [
       "70"
      ]
     },
     "execution_count": 15,
     "metadata": {},
     "output_type": "execute_result"
    }
   ],
   "source": [
    "Xpi(30, theta)"
   ]
  },
  {
   "cell_type": "code",
   "execution_count": 16,
   "id": "001919a0-7646-47ac-90a9-58ee723eefc3",
   "metadata": {},
   "outputs": [
    {
     "data": {
      "text/plain": [
       "0"
      ]
     },
     "execution_count": 16,
     "metadata": {},
     "output_type": "execute_result"
    }
   ],
   "source": [
    "Xpi(90, theta)"
   ]
  },
  {
   "cell_type": "markdown",
   "id": "61be4b04-1eb0-4564-af7c-0e3c347794bb",
   "metadata": {},
   "source": [
    "We define a simulation of one sample of $T$ times as follows:"
   ]
  },
  {
   "cell_type": "code",
   "execution_count": 17,
   "id": "9eb06d0d-2010-493f-985d-3323408b68c1",
   "metadata": {},
   "outputs": [],
   "source": [
    "def sim(p,c,Dhat,sigmahatD,S_0,num_days,theta):\n",
    "    S0 = init_S0(p,c,Dhat,sigmahatD)\n",
    "    T_ = np.arange(0, num_days, dtype=int)\n",
    "    S_ = np.zeros(num_days, dtype=float)\n",
    "    S_[0] = S_0\n",
    "    x_ = np.zeros(num_days, dtype=float)\n",
    "    W_ = np.zeros(num_days, dtype=float)\n",
    "    C_ = np.zeros(num_days, dtype=float)\n",
    "\n",
    "    for t in T_[:-1]:\n",
    "        x_[t] = Xpi(S_[t], theta)\n",
    "        W_[t+1] = WM(S0)\n",
    "        C_[t] = C(S_[t],x_[t],W_[t+1],S0)\n",
    "        S_[t+1] = SM(S_[t],x_[t],W_[t+1])\n",
    "\n",
    "    df = pd.DataFrame({'t':T_, 'S_t':S_, 'x_t':x_, 'W_t':W_, 'C_t':C_})\n",
    "    df['Cumulative(C_t)'] = df['C_t'].cumsum()\n",
    "    \n",
    "    return df\n",
    "        "
   ]
  },
  {
   "cell_type": "markdown",
   "id": "3d9d69e2-6355-4287-9ddb-a517ff161484",
   "metadata": {},
   "source": [
    "For example:"
   ]
  },
  {
   "cell_type": "code",
   "execution_count": 18,
   "id": "bf28f83d-33e1-4582-a57e-51c12650069d",
   "metadata": {},
   "outputs": [],
   "source": [
    "p = np.float32(2)\n",
    "c = np.float32(1.5)\n",
    "Dhat = np.float32(50)\n",
    "sigmahatD = np.float32(15)\n",
    "S_0 = np.float32(0)\n",
    "num_days = np.int64(365)\n",
    "theta = {\n",
    "    'theta_min': np.float32(50),\n",
    "    'theta_max': np.float32(100)\n",
    "}\n",
    "results = sim(p,c,Dhat,sigmahatD,S_0,num_days,theta)"
   ]
  },
  {
   "cell_type": "code",
   "execution_count": 19,
   "id": "07f56a81-4c91-4824-96f2-fc1b095303a7",
   "metadata": {},
   "outputs": [
    {
     "data": {
      "text/html": [
       "<div>\n",
       "<style scoped>\n",
       "    .dataframe tbody tr th:only-of-type {\n",
       "        vertical-align: middle;\n",
       "    }\n",
       "\n",
       "    .dataframe tbody tr th {\n",
       "        vertical-align: top;\n",
       "    }\n",
       "\n",
       "    .dataframe thead th {\n",
       "        text-align: right;\n",
       "    }\n",
       "</style>\n",
       "<table border=\"1\" class=\"dataframe\">\n",
       "  <thead>\n",
       "    <tr style=\"text-align: right;\">\n",
       "      <th></th>\n",
       "      <th>t</th>\n",
       "      <th>S_t</th>\n",
       "      <th>x_t</th>\n",
       "      <th>W_t</th>\n",
       "      <th>C_t</th>\n",
       "      <th>Cumulative(C_t)</th>\n",
       "    </tr>\n",
       "  </thead>\n",
       "  <tbody>\n",
       "    <tr>\n",
       "      <th>0</th>\n",
       "      <td>0</td>\n",
       "      <td>0.000000</td>\n",
       "      <td>100.000000</td>\n",
       "      <td>0.000000</td>\n",
       "      <td>-41.670992</td>\n",
       "      <td>-41.670992</td>\n",
       "    </tr>\n",
       "    <tr>\n",
       "      <th>1</th>\n",
       "      <td>1</td>\n",
       "      <td>45.835496</td>\n",
       "      <td>54.164504</td>\n",
       "      <td>54.164504</td>\n",
       "      <td>-2.473576</td>\n",
       "      <td>-44.144568</td>\n",
       "    </tr>\n",
       "    <tr>\n",
       "      <th>2</th>\n",
       "      <td>2</td>\n",
       "      <td>60.613410</td>\n",
       "      <td>0.000000</td>\n",
       "      <td>39.386590</td>\n",
       "      <td>100.539073</td>\n",
       "      <td>56.394505</td>\n",
       "    </tr>\n",
       "    <tr>\n",
       "      <th>3</th>\n",
       "      <td>3</td>\n",
       "      <td>10.343874</td>\n",
       "      <td>89.656126</td>\n",
       "      <td>50.269536</td>\n",
       "      <td>-23.895104</td>\n",
       "      <td>32.499401</td>\n",
       "    </tr>\n",
       "    <tr>\n",
       "      <th>4</th>\n",
       "      <td>4</td>\n",
       "      <td>44.705457</td>\n",
       "      <td>55.294543</td>\n",
       "      <td>55.294543</td>\n",
       "      <td>11.748757</td>\n",
       "      <td>44.248158</td>\n",
       "    </tr>\n",
       "  </tbody>\n",
       "</table>\n",
       "</div>"
      ],
      "text/plain": [
       "   t        S_t         x_t        W_t         C_t  Cumulative(C_t)\n",
       "0  0   0.000000  100.000000   0.000000  -41.670992       -41.670992\n",
       "1  1  45.835496   54.164504  54.164504   -2.473576       -44.144568\n",
       "2  2  60.613410    0.000000  39.386590  100.539073        56.394505\n",
       "3  3  10.343874   89.656126  50.269536  -23.895104        32.499401\n",
       "4  4  44.705457   55.294543  55.294543   11.748757        44.248158"
      ]
     },
     "execution_count": 19,
     "metadata": {},
     "output_type": "execute_result"
    }
   ],
   "source": [
    "results.head()"
   ]
  },
  {
   "cell_type": "code",
   "execution_count": 20,
   "id": "1b9f3508-2028-4290-a1d3-3e49e0cfa218",
   "metadata": {},
   "outputs": [
    {
     "data": {
      "text/html": [
       "<div>\n",
       "<style scoped>\n",
       "    .dataframe tbody tr th:only-of-type {\n",
       "        vertical-align: middle;\n",
       "    }\n",
       "\n",
       "    .dataframe tbody tr th {\n",
       "        vertical-align: top;\n",
       "    }\n",
       "\n",
       "    .dataframe thead th {\n",
       "        text-align: right;\n",
       "    }\n",
       "</style>\n",
       "<table border=\"1\" class=\"dataframe\">\n",
       "  <thead>\n",
       "    <tr style=\"text-align: right;\">\n",
       "      <th></th>\n",
       "      <th>t</th>\n",
       "      <th>S_t</th>\n",
       "      <th>x_t</th>\n",
       "      <th>W_t</th>\n",
       "      <th>C_t</th>\n",
       "      <th>Cumulative(C_t)</th>\n",
       "    </tr>\n",
       "  </thead>\n",
       "  <tbody>\n",
       "    <tr>\n",
       "      <th>360</th>\n",
       "      <td>360</td>\n",
       "      <td>49.491899</td>\n",
       "      <td>50.508101</td>\n",
       "      <td>50.508101</td>\n",
       "      <td>33.478490</td>\n",
       "      <td>8875.951506</td>\n",
       "    </tr>\n",
       "    <tr>\n",
       "      <th>361</th>\n",
       "      <td>361</td>\n",
       "      <td>45.379679</td>\n",
       "      <td>54.620321</td>\n",
       "      <td>54.620321</td>\n",
       "      <td>0.122951</td>\n",
       "      <td>8876.074457</td>\n",
       "    </tr>\n",
       "    <tr>\n",
       "      <th>362</th>\n",
       "      <td>362</td>\n",
       "      <td>58.973284</td>\n",
       "      <td>0.000000</td>\n",
       "      <td>41.026716</td>\n",
       "      <td>79.812184</td>\n",
       "      <td>8955.886641</td>\n",
       "    </tr>\n",
       "    <tr>\n",
       "      <th>363</th>\n",
       "      <td>363</td>\n",
       "      <td>19.067192</td>\n",
       "      <td>80.932808</td>\n",
       "      <td>39.906092</td>\n",
       "      <td>-26.194785</td>\n",
       "      <td>8929.691855</td>\n",
       "    </tr>\n",
       "    <tr>\n",
       "      <th>364</th>\n",
       "      <td>364</td>\n",
       "      <td>52.397786</td>\n",
       "      <td>0.000000</td>\n",
       "      <td>47.602214</td>\n",
       "      <td>0.000000</td>\n",
       "      <td>8929.691855</td>\n",
       "    </tr>\n",
       "  </tbody>\n",
       "</table>\n",
       "</div>"
      ],
      "text/plain": [
       "       t        S_t        x_t        W_t        C_t  Cumulative(C_t)\n",
       "360  360  49.491899  50.508101  50.508101  33.478490      8875.951506\n",
       "361  361  45.379679  54.620321  54.620321   0.122951      8876.074457\n",
       "362  362  58.973284   0.000000  41.026716  79.812184      8955.886641\n",
       "363  363  19.067192  80.932808  39.906092 -26.194785      8929.691855\n",
       "364  364  52.397786   0.000000  47.602214   0.000000      8929.691855"
      ]
     },
     "execution_count": 20,
     "metadata": {},
     "output_type": "execute_result"
    }
   ],
   "source": [
    "results.tail()"
   ]
  },
  {
   "cell_type": "markdown",
   "id": "f41918fc-87ac-455f-9725-919fe6fd31cf",
   "metadata": {},
   "source": [
    "We can check a histogram of random demands."
   ]
  },
  {
   "cell_type": "code",
   "execution_count": 21,
   "id": "3cdf5568-2d4d-4619-b716-8ca0a98e98ba",
   "metadata": {},
   "outputs": [
    {
     "data": {
      "text/plain": [
       "<seaborn.axisgrid.FacetGrid at 0x29afc76ecf0>"
      ]
     },
     "execution_count": 21,
     "metadata": {},
     "output_type": "execute_result"
    },
    {
     "data": {
      "image/png": "[encoded data removed]",
      "text/plain": [
       "<Figure size 500x500 with 1 Axes>"
      ]
     },
     "metadata": {},
     "output_type": "display_data"
    }
   ],
   "source": [
    "sns.displot(data=results, x=\"W_t\", kde=True)"
   ]
  },
  {
   "cell_type": "markdown",
   "id": "d3ffca63-33a8-4ea2-9d81-7fcc0a300635",
   "metadata": {},
   "source": [
    "And we can check total cumulative contirbutions over time."
   ]
  },
  {
   "cell_type": "code",
   "execution_count": 22,
   "id": "aabf0b65-06b1-40f1-847a-775b5a7de493",
   "metadata": {},
   "outputs": [
    {
     "data": {
      "text/plain": [
       "<Axes: xlabel='t', ylabel='Cumulative(C_t)'>"
      ]
     },
     "execution_count": 22,
     "metadata": {},
     "output_type": "execute_result"
    },
    {
     "data": {
      "image/png": "[encoded data removed]",
      "text/plain": [
       "<Figure size 640x480 with 1 Axes>"
      ]
     },
     "metadata": {},
     "output_type": "display_data"
    }
   ],
   "source": [
    "sns.lineplot(data=results, x=\"t\", y='Cumulative(C_t)')"
   ]
  },
  {
   "cell_type": "markdown",
   "id": "c21c454f-1013-4270-98ce-63a4b8199a53",
   "metadata": {},
   "source": [
    "To evaluate the policy, we can repeat the simulation $N$ times and calculate the average total cumulative contributions. "
   ]
  },
  {
   "cell_type": "code",
   "execution_count": 23,
   "id": "c5588e75-e3dc-4c1e-b05d-595cfcbe435f",
   "metadata": {},
   "outputs": [],
   "source": [
    "reps = 1000\n",
    "N = np.arange(0, reps, dtype=int)\n",
    "results_array = [None] * reps\n",
    "total_contributions = np.zeros(reps, float)\n",
    "for n in N:\n",
    "    results = sim(p,c,Dhat,sigmahatD,S_0,num_days,theta)\n",
    "    results_array[n] = results\n",
    "    total_contributions[n] = results['Cumulative(C_t)'].iloc[-1]\n",
    "\n",
    "df = pd.DataFrame({'n': N, 'Total Contributions': total_contributions})\n",
    "df['Cumulative Average'] = df['Total Contributions'].expanding().mean()"
   ]
  },
  {
   "cell_type": "code",
   "execution_count": 24,
   "id": "1d6755ae-f144-42d4-804a-a100ecab3569",
   "metadata": {},
   "outputs": [
    {
     "data": {
      "text/html": [
       "<div>\n",
       "<style scoped>\n",
       "    .dataframe tbody tr th:only-of-type {\n",
       "        vertical-align: middle;\n",
       "    }\n",
       "\n",
       "    .dataframe tbody tr th {\n",
       "        vertical-align: top;\n",
       "    }\n",
       "\n",
       "    .dataframe thead th {\n",
       "        text-align: right;\n",
       "    }\n",
       "</style>\n",
       "<table border=\"1\" class=\"dataframe\">\n",
       "  <thead>\n",
       "    <tr style=\"text-align: right;\">\n",
       "      <th></th>\n",
       "      <th>n</th>\n",
       "      <th>Total Contributions</th>\n",
       "      <th>Cumulative Average</th>\n",
       "    </tr>\n",
       "  </thead>\n",
       "  <tbody>\n",
       "    <tr>\n",
       "      <th>0</th>\n",
       "      <td>0</td>\n",
       "      <td>8737.433214</td>\n",
       "      <td>8737.433214</td>\n",
       "    </tr>\n",
       "    <tr>\n",
       "      <th>1</th>\n",
       "      <td>1</td>\n",
       "      <td>8872.100626</td>\n",
       "      <td>8804.766920</td>\n",
       "    </tr>\n",
       "    <tr>\n",
       "      <th>2</th>\n",
       "      <td>2</td>\n",
       "      <td>8712.040348</td>\n",
       "      <td>8773.858063</td>\n",
       "    </tr>\n",
       "    <tr>\n",
       "      <th>3</th>\n",
       "      <td>3</td>\n",
       "      <td>8662.249655</td>\n",
       "      <td>8745.955961</td>\n",
       "    </tr>\n",
       "    <tr>\n",
       "      <th>4</th>\n",
       "      <td>4</td>\n",
       "      <td>8694.659761</td>\n",
       "      <td>8735.696721</td>\n",
       "    </tr>\n",
       "  </tbody>\n",
       "</table>\n",
       "</div>"
      ],
      "text/plain": [
       "   n  Total Contributions  Cumulative Average\n",
       "0  0          8737.433214         8737.433214\n",
       "1  1          8872.100626         8804.766920\n",
       "2  2          8712.040348         8773.858063\n",
       "3  3          8662.249655         8745.955961\n",
       "4  4          8694.659761         8735.696721"
      ]
     },
     "execution_count": 24,
     "metadata": {},
     "output_type": "execute_result"
    }
   ],
   "source": [
    "df.head()"
   ]
  },
  {
   "cell_type": "code",
   "execution_count": 25,
   "id": "7fcb3458-11ad-4242-8398-8f35d4d654b0",
   "metadata": {},
   "outputs": [
    {
     "data": {
      "text/html": [
       "<div>\n",
       "<style scoped>\n",
       "    .dataframe tbody tr th:only-of-type {\n",
       "        vertical-align: middle;\n",
       "    }\n",
       "\n",
       "    .dataframe tbody tr th {\n",
       "        vertical-align: top;\n",
       "    }\n",
       "\n",
       "    .dataframe thead th {\n",
       "        text-align: right;\n",
       "    }\n",
       "</style>\n",
       "<table border=\"1\" class=\"dataframe\">\n",
       "  <thead>\n",
       "    <tr style=\"text-align: right;\">\n",
       "      <th></th>\n",
       "      <th>n</th>\n",
       "      <th>Total Contributions</th>\n",
       "      <th>Cumulative Average</th>\n",
       "    </tr>\n",
       "  </thead>\n",
       "  <tbody>\n",
       "    <tr>\n",
       "      <th>995</th>\n",
       "      <td>995</td>\n",
       "      <td>8998.392918</td>\n",
       "      <td>8891.234821</td>\n",
       "    </tr>\n",
       "    <tr>\n",
       "      <th>996</th>\n",
       "      <td>996</td>\n",
       "      <td>8820.426809</td>\n",
       "      <td>8891.163800</td>\n",
       "    </tr>\n",
       "    <tr>\n",
       "      <th>997</th>\n",
       "      <td>997</td>\n",
       "      <td>8773.280452</td>\n",
       "      <td>8891.045680</td>\n",
       "    </tr>\n",
       "    <tr>\n",
       "      <th>998</th>\n",
       "      <td>998</td>\n",
       "      <td>9141.727067</td>\n",
       "      <td>8891.296613</td>\n",
       "    </tr>\n",
       "    <tr>\n",
       "      <th>999</th>\n",
       "      <td>999</td>\n",
       "      <td>8890.229780</td>\n",
       "      <td>8891.295546</td>\n",
       "    </tr>\n",
       "  </tbody>\n",
       "</table>\n",
       "</div>"
      ],
      "text/plain": [
       "       n  Total Contributions  Cumulative Average\n",
       "995  995          8998.392918         8891.234821\n",
       "996  996          8820.426809         8891.163800\n",
       "997  997          8773.280452         8891.045680\n",
       "998  998          9141.727067         8891.296613\n",
       "999  999          8890.229780         8891.295546"
      ]
     },
     "execution_count": 25,
     "metadata": {},
     "output_type": "execute_result"
    }
   ],
   "source": [
    "df.tail()"
   ]
  },
  {
   "cell_type": "markdown",
   "id": "0975040e-c3ac-49ec-86dd-ea4c2933f2c8",
   "metadata": {},
   "source": [
    "We can check a plot of how the average converges over time as follows:"
   ]
  },
  {
   "cell_type": "code",
   "execution_count": 26,
   "id": "d51ed4b1-90c5-40c6-8ef3-cf397a1ef144",
   "metadata": {},
   "outputs": [
    {
     "data": {
      "text/plain": [
       "<Axes: xlabel='n', ylabel='Total Contributions'>"
      ]
     },
     "execution_count": 26,
     "metadata": {},
     "output_type": "execute_result"
    },
    {
     "data": {
      "image/png": "[encoded data removed]",
      "text/plain": [
       "<Figure size 640x480 with 1 Axes>"
      ]
     },
     "metadata": {},
     "output_type": "display_data"
    }
   ],
   "source": [
    "sns.lineplot(data=df, x=\"n\", y='Total Contributions')\n",
    "sns.lineplot(data=df, x=\"n\", y='Cumulative Average')"
   ]
  },
  {
   "cell_type": "markdown",
   "id": "bbc4517c-0bfc-4650-be39-de50cb5c3176",
   "metadata": {},
   "source": [
    "And we can check the distribution of total contributions as follows:"
   ]
  },
  {
   "cell_type": "code",
   "execution_count": 27,
   "id": "9253fbca-01ba-42a6-bc33-b4f999e6f2b2",
   "metadata": {},
   "outputs": [
    {
     "data": {
      "text/plain": [
       "<seaborn.axisgrid.FacetGrid at 0x29afcaf2d80>"
      ]
     },
     "execution_count": 27,
     "metadata": {},
     "output_type": "execute_result"
    },
    {
     "data": {
      "image/png": "[encoded data removed]",
      "text/plain": [
       "<Figure size 500x500 with 1 Axes>"
      ]
     },
     "metadata": {},
     "output_type": "display_data"
    }
   ],
   "source": [
    "sns.displot(data=df, x=\"Total Contributions\", kde=True)"
   ]
  },
  {
   "cell_type": "markdown",
   "id": "d8de1cab-809b-4379-be92-c5fb5534b341",
   "metadata": {},
   "source": [
    "Finally, we can numerically estimate the value of our policy for this sequential decision problem given by the formula:"
   ]
  },
  {
   "cell_type": "markdown",
   "id": "ce4d0a3c-9640-4bef-8a8c-da90514cc57f",
   "metadata": {},
   "source": [
    "$$ \\bar{F}^{\\pi}(\\theta) = \\frac{1}{N} \\sum_{n=1}^{N} \\sum_{t=0}^{T} C(S_t,X^{\\pi}(S_t\\mid\\theta),\\hat{D}^n_{t+1}), $$"
   ]
  },
  {
   "cell_type": "markdown",
   "id": "25be2f76-d448-46ab-9ca1-b2da5bc59222",
   "metadata": {},
   "source": [
    "as follows:"
   ]
  },
  {
   "cell_type": "code",
   "execution_count": 28,
   "id": "75598391-060a-43d8-bddf-6b509b09a852",
   "metadata": {},
   "outputs": [
    {
     "name": "stdout",
     "output_type": "stream",
     "text": [
      "8891.295545973868\n"
     ]
    }
   ],
   "source": [
    "F_est = df['Total Contributions'].sum() / reps\n",
    "print(F_est)"
   ]
  },
  {
   "cell_type": "markdown",
   "id": "b7b75cd2-5078-4394-9dce-481cd83958ee",
   "metadata": {},
   "source": [
    "Or since we already calculated it in the cumulative average column, we can just read it off from the last row as follows:"
   ]
  },
  {
   "cell_type": "code",
   "execution_count": 29,
   "id": "c7e89196-d35b-4183-9886-47b97833ce40",
   "metadata": {},
   "outputs": [
    {
     "name": "stdout",
     "output_type": "stream",
     "text": [
      "8891.295545973868\n"
     ]
    }
   ],
   "source": [
    "F_est = df['Cumulative Average'].iloc()[-1]\n",
    "print(F_est)"
   ]
  }
 ],
 "metadata": {
  "kernelspec": {
   "display_name": "Python 3 (ipykernel)",
   "language": "python",
   "name": "python3"
  },
  "language_info": {
   "codemirror_mode": {
    "name": "ipython",
    "version": 3
   },
   "file_extension": ".py",
   "mimetype": "text/x-python",
   "name": "python",
   "nbconvert_exporter": "python",
   "pygments_lexer": "ipython3",
   "version": "3.12.0"
  }
 },
 "nbformat": 4,
 "nbformat_minor": 5
}
