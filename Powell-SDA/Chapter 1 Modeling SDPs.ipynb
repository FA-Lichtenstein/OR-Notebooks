{
 "cells": [
  {
   "cell_type": "markdown",
   "id": "dbe60a03-6fae-4c8d-97ea-f52bb716d4e5",
   "metadata": {},
   "source": [
    "# Modeling Sequential Decision Problems in Python"
   ]
  },
  {
   "cell_type": "markdown",
   "id": "99e72f1e-d6f6-4d9a-876c-8459aa94a8a9",
   "metadata": {},
   "source": [
    "## Compact description"
   ]
  },
  {
   "cell_type": "markdown",
   "id": "07b11666-5a59-4213-a6a6-cbaa656829ef",
   "metadata": {},
   "source": [
    "Sequential decision problems are processes of the form:$$ decision, information, decision, information, decision \\ldots $$"
   ]
  },
  {
   "cell_type": "markdown",
   "id": "b515c122-b650-4d04-8c44-500e565e6a80",
   "metadata": {},
   "source": [
    "Any such problem can be modeled as $$ ( S_0, x_0, W_1, S_1, x_1, W_2, \\ldots , S_t, x_t, W_{t+1}, \\ldots , S_T ), $$"
   ]
  },
  {
   "cell_type": "markdown",
   "id": "4998f20d-04b4-4ec5-8b88-1ac9a9959a85",
   "metadata": {},
   "source": [
    "where:\n",
    "* $S_t$ represents *state variables* that captures the state of the system at time $t$.\n",
    "* $x_t$ represents *decision variables* that capture elements that controlled.\n",
    "* $W_t$ represents *exogenous information* that arrives after a decision $x_t$."
   ]
  },
  {
   "cell_type": "markdown",
   "id": "fe617c4c-93e5-422f-b3ae-358a03e760ad",
   "metadata": {},
   "source": [
    "Sometimes it's more natural to index decisions using a counter $n$. Then the process is$$ ( S^0, x^0, W^1, S^1, x^1, W^2, \\ldots , S^n, x^n, W^{n+1}, \\ldots , S^N ). $$And sometimes both index and time are captured, as in $(S^n_t, x^n_t,W^n_t)$."
   ]
  },
  {
   "cell_type": "markdown",
   "id": "496f264c-e5fa-465d-90ed-5a92b5978a62",
   "metadata": {},
   "source": [
    "States are updated by a *transition function* $S^M$ such that$$ S_{t+1} = S^M(S_t,x_t,W_t). $$"
   ]
  },
  {
   "cell_type": "markdown",
   "id": "0d04465d-fa99-4682-a0fa-b1697b37a3f9",
   "metadata": {},
   "source": [
    "Decision variables $x_t$ are determined by a *policy* function denoted $X^{\\pi}(S_t)$."
   ]
  },
  {
   "cell_type": "markdown",
   "id": "a8e7dfec-eccc-4ae2-80ad-d2e01d671886",
   "metadata": {},
   "source": [
    "Decisions incur a *cost* (or *contribution*) $$C(S_t,x_t)=C(S_t,X^{\\pi}(S_t)).$$"
   ]
  },
  {
   "cell_type": "markdown",
   "id": "389a48cd-9d69-4eb6-811c-a99d6607b1fb",
   "metadata": {},
   "source": [
    "The objective is to find the best policy to optimize some metric. The most common way of writing the objective function is\n",
    "$$ \\max_{\\pi} \\mathbb{E} \\left \\{ \\sum^T_{t=0} C ( S_t,X^{\\pi}(S_t) ) \\mid S_0 \\right \\} $$"
   ]
  }
 ],
 "metadata": {
  "kernelspec": {
   "display_name": "Python 3 (ipykernel)",
   "language": "python",
   "name": "python3"
  },
  "language_info": {
   "codemirror_mode": {
    "name": "ipython",
    "version": 3
   },
   "file_extension": ".py",
   "mimetype": "text/x-python",
   "name": "python",
   "nbconvert_exporter": "python",
   "pygments_lexer": "ipython3",
   "version": "3.12.0"
  }
 },
 "nbformat": 4,
 "nbformat_minor": 5
}
